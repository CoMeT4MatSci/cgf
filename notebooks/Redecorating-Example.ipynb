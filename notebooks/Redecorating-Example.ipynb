{
 "cells": [
  {
   "cell_type": "code",
   "execution_count": 1,
   "id": "b1bc2544-e211-4380-85ef-21f173cea822",
   "metadata": {},
   "outputs": [],
   "source": [
    "import sys\n",
    "from ase.io import read, write\n",
    "from rdkit import Chem\n",
    "\n",
    "sys.path.insert(0, '../')\n",
    "from cgf.redecorate import *"
   ]
  },
  {
   "cell_type": "markdown",
   "id": "2d290998-d69f-47b8-8a25-29394a4cc443",
   "metadata": {},
   "source": [
    "Reading coarse-grained xyz file and defining linker molecule:"
   ]
  },
  {
   "cell_type": "code",
   "execution_count": 2,
   "id": "f4b68230-ba88-4b08-b304-0c9881241d74",
   "metadata": {},
   "outputs": [
    {
     "data": {
      "image/png": "[encoded data removed]",
      "text/plain": [
       "<rdkit.Chem.rdchem.Mol at 0x7f686365c970>"
      ]
     },
     "execution_count": 2,
     "metadata": {},
     "output_type": "execute_result"
    }
   ],
   "source": [
    "cg_atoms = read('../test-data/TpDB_COF_1phenyl_SW_BNFF.xyz', format='extxyz')\n",
    "\n",
    "smiles = 'B1(OC2=CC=CC=C2O1)C3=CC=C(C=C3)B4OC5=CC=CC=C5O4'\n",
    "mol = Chem.MolFromSmiles(smiles)\n",
    "mol\n"
   ]
  },
  {
   "cell_type": "code",
   "execution_count": 3,
   "id": "cec1f862-15af-4201-b8a6-0ff609ef8b1a",
   "metadata": {},
   "outputs": [],
   "source": [
    "linker_atoms = mol2Atoms(mol, '3D')\n",
    "left_ind, right_ind = get_left_right(linker_atoms, 2, ignoreHs=False)\n",
    "del linker_atoms[left_ind + right_ind] # simply remove right/leftmost atoms"
   ]
  },
  {
   "cell_type": "markdown",
   "id": "077b5689-6c36-46ed-8771-4a7f8069bfa2",
   "metadata": {},
   "source": [
    "Redecorating COF with the defined linker based on the coarse-grained positions and rotations:"
   ]
  },
  {
   "cell_type": "code",
   "execution_count": 4,
   "id": "e0b6c8f0-2230-40c2-bad3-762a5245bb8c",
   "metadata": {},
   "outputs": [],
   "source": [
    "r0 = 30.082740/np.sqrt(3)  # approximate distance between cg-cores\n",
    "\n",
    "redecorated_COF = redecorate(cg_atoms, linker_atoms, r0)"
   ]
  },
  {
   "cell_type": "code",
   "execution_count": 5,
   "id": "1006dc5c-9aba-495b-9cc6-eeb42e8e2fcf",
   "metadata": {},
   "outputs": [
    {
     "data": {
      "text/plain": [
       "Atoms(symbols='C486H216B54O108', pbc=True, cell=[[90.2481003, 0.0, 0.0], [-45.1240501, 78.1571503, 0.0], [0.0, 0.0, 30.0]])"
      ]
     },
     "execution_count": 5,
     "metadata": {},
     "output_type": "execute_result"
    }
   ],
   "source": [
    "redecorated_COF"
   ]
  },
  {
   "cell_type": "code",
   "execution_count": 6,
   "id": "c6d7f3fe-9ed1-4d37-aec5-8c7d3738d0b9",
   "metadata": {},
   "outputs": [],
   "source": [
    "#redecorated_COF.write('redecorated_COF.cif')"
   ]
  }
 ],
 "metadata": {
  "kernelspec": {
   "display_name": "cgf",
   "language": "python",
   "name": "cgf"
  },
  "language_info": {
   "codemirror_mode": {
    "name": "ipython",
    "version": 3
   },
   "file_extension": ".py",
   "mimetype": "text/x-python",
   "name": "python",
   "nbconvert_exporter": "python",
   "pygments_lexer": "ipython3",
   "version": "3.10.8"
  }
 },
 "nbformat": 4,
 "nbformat_minor": 5
}

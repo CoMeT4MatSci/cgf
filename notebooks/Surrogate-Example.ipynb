{
 "cells": [
  {
   "cell_type": "code",
   "execution_count": 1,
   "metadata": {},
   "outputs": [],
   "source": [
    "import sys, os\n",
    "sys.path.insert(0, '../')\n",
    "\n",
    "import matplotlib.pyplot as plt\n",
    "import numpy as np\n",
    "\n",
    "import networkx as nx\n",
    "\n",
    "from ase import Atoms\n",
    "from ase.io import read\n",
    "from ase.neighborlist import NeighborList\n",
    "\n",
    "from cgf.cycles import find_cycles, cycle_graph\n",
    "from cgf.motifs import find_unique_motifs\n",
    "from cgf.utils import remove_hatoms\n",
    "from cgf.bnff import _get_bonds, _get_phi0\n",
    "\n",
    "from cgf.surrogate import (_find_linker_neighbor, _get_core_descriptors, _get_bond_descriptors, \n",
    "                        collect_descriptors, get_feature_matrix, _energy_internal, _num_internal_gradient, _internal_gradient)"
   ]
  },
  {
   "cell_type": "code",
   "execution_count": 2,
   "metadata": {
    "tags": []
   },
   "outputs": [],
   "source": [
    "# Tp Core Motif\n",
    "motif = nx.Graph()\n",
    "motif.add_edge(\"A\", \"B\")\n",
    "motif.add_edge(\"C\", \"B\")\n",
    "motif.add_edge(\"D\", \"B\")\n",
    "\n",
    "# all hexagons\n",
    "motif.nodes['A']['cl'] = 6\n",
    "motif.nodes['B']['cl'] = 6\n",
    "motif.nodes['C']['cl'] = 6\n",
    "motif.nodes['D']['cl'] = 6"
   ]
  },
  {
   "cell_type": "markdown",
   "metadata": {},
   "source": [
    "# Descriptors from deformed unitcell"
   ]
  },
  {
   "cell_type": "code",
   "execution_count": 9,
   "metadata": {},
   "outputs": [],
   "source": [
    "# the individual structures are stored in separate directories as json files\n",
    "\n",
    "r0 = 30.082756/np.sqrt(3)\n",
    "\n",
    "structures = []\n",
    "energies = []\n",
    "cells = []\n",
    "bulk_or_shear = []\n",
    "for fname in [f.path for f in os.scandir('../test-data/Triphenylene-DB_1phenyl/') if f.is_dir()]:\n",
    "    s0 = read(fname + '/result.json')\n",
    "    energies.append(s0.get_potential_energy())\n",
    "    cells.append(s0.cell.array.copy())\n",
    "    bulk_or_shear.append('bulk' in fname)\n",
    "    remove_hatoms(s0)\n",
    "    structures.append(s0)\n",
    "    \n",
    "energies = np.array(energies)"
   ]
  },
  {
   "cell_type": "code",
   "execution_count": 10,
   "metadata": {},
   "outputs": [
    {
     "data": {
      "text/plain": [
       "Atoms(symbols='C54B6O12', pbc=True, cell=[[30.08274028, 0.0, 0.0], [-15.04137013, 26.0524173, 0.0], [0.0, 0.0, 30.0]], calculator=SinglePointCalculator(...))"
      ]
     },
     "execution_count": 10,
     "metadata": {},
     "output_type": "execute_result"
    }
   ],
   "source": [
    "structures[0]"
   ]
  },
  {
   "cell_type": "code",
   "execution_count": 11,
   "metadata": {},
   "outputs": [
    {
     "name": "stdout",
     "output_type": "stream",
     "text": [
      "15\n",
      "12\n",
      "2\n"
     ]
    }
   ],
   "source": [
    "# find the cycles in the first structure\n",
    "# it is assumed that the topology does not change and we can reuse this information\n",
    "cy = find_cycles(structures[0])\n",
    "\n",
    "G_cy = cycle_graph(cy, structures[0].positions)\n",
    "\n",
    "# annotate cycles with cycle length\n",
    "for n in G_cy.nodes:\n",
    "    G_cy.nodes[n]['cl'] = len(G_cy.nodes[n]['cycle'])\n",
    "\n",
    "mfs = find_unique_motifs(motif, G_cy)\n",
    "print(len(mfs))\n",
    "\n",
    "\n",
    "### this part is only needed for the plot in the next cell \n",
    "r_c = np.array([G_cy.nodes[m['B']]['pos'].mean(axis=0) for m in mfs]) # compute core centers\n",
    "core_linker_dir = [[G_cy.nodes[m[ls]]['pos'].mean(axis=0)-G_cy.nodes[m['B']]['pos'].mean(axis=0) for ls in ['A', 'C', 'D']] for m in mfs]\n",
    "\n",
    "cg_atoms = Atoms(['Y'] * len(r_c), positions=r_c, cell=s0.cell, pbc=True) # create coarse-grained representation based on core centers\n",
    "cg_atoms.new_array('linker_sites', np.array(core_linker_dir)) # add positions of linker sites relative to core center\n",
    "\n",
    "_find_linker_neighbor(cg_atoms, r0)\n",
    "###\n"
   ]
  },
  {
   "cell_type": "code",
   "execution_count": 12,
   "metadata": {},
   "outputs": [
    {
     "data": {
      "image/png": "[encoded data removed]",
      "text/plain": [
       "<Figure size 720x720 with 1 Axes>"
      ]
     },
     "metadata": {
      "needs_background": "light"
     },
     "output_type": "display_data"
    }
   ],
   "source": [
    "natoms = len(cg_atoms)\n",
    "cell = cg_atoms.cell\n",
    "positions = cg_atoms.positions\n",
    "core_linker_dir = cg_atoms.get_array('linker_sites')\n",
    "core_linker_neigh = cg_atoms.get_array('linker_neighbors')\n",
    "bonds = _get_bonds(cg_atoms, r0)\n",
    "\n",
    "nl = NeighborList( [1.2*r0/2] * natoms, self_interaction=False, bothways=True)\n",
    "nl.update(cg_atoms)\n",
    "\n",
    "fig = plt.figure(figsize=(10,10)) \n",
    "ax = fig.add_subplot(111, aspect='equal')\n",
    "\n",
    "ax.scatter(positions[:,0],positions[:,1], color='coral', marker='o', s=75, zorder=10)\n",
    "for i in range(core_linker_dir.shape[0]):\n",
    "    for li in range(core_linker_dir.shape[1]):\n",
    "        ax.arrow(positions[i,0],positions[i,1], core_linker_dir[i,li,0], core_linker_dir[i,li,1], color='coral', head_width=0.9, head_length=0.5, zorder=10)\n",
    "\n",
    "for ib,b in enumerate(bonds):\n",
    "    ii, nii, jj, njj = b[0], b[1], b[2], b[3]\n",
    "\n",
    "    # get angle for site ii\n",
    "    neighbors, offsets = nl.get_neighbors(ii)\n",
    "    cells = np.dot(offsets, cell)\n",
    "    distance_vectors = positions[neighbors] + cells - positions[ii]\n",
    "\n",
    "    v2 = core_linker_dir[ii][core_linker_neigh[ii,nii]] # vector to linkage site\n",
    "    v1 = distance_vectors[nii] # vector from ii to neighbor nii        \n",
    "    \n",
    "    ax.plot([positions[ii][0], positions[ii][0]+v1[0]/2], [positions[ii][1], positions[ii][1]+v1[1]/2], 'b--')\n",
    "    ax.annotate(str(ib), [positions[ii][0]+v1[0]/2, positions[ii][1]+v1[1]/2])\n",
    "        \n",
    "plt.show()"
   ]
  },
  {
   "cell_type": "code",
   "execution_count": 13,
   "metadata": {},
   "outputs": [
    {
     "name": "stdout",
     "output_type": "stream",
     "text": [
      "number of samples: 28\n",
      "number of linkers: 6\n",
      "number of descriptors per linker: 3\n",
      "number of cores: 2\n",
      "number of descriptors per core: 3\n"
     ]
    }
   ],
   "source": [
    "core_descriptors, bond_descriptors = collect_descriptors(structures, cy, mfs, r0)\n",
    "\n",
    "print('number of samples: %d' % (len(bond_descriptors)))\n",
    "print('number of linkers: %d' % (len(bond_descriptors[0])))\n",
    "print('number of descriptors per linker: %d' % (len(bond_descriptors[0][0])))\n",
    "print('number of cores: %d' % (len(core_descriptors[0])))\n",
    "print('number of descriptors per core: %d' % (len(core_descriptors[0][0])))"
   ]
  },
  {
   "cell_type": "markdown",
   "metadata": {},
   "source": [
    "# Training using Ridge regression"
   ]
  },
  {
   "cell_type": "code",
   "execution_count": 14,
   "metadata": {},
   "outputs": [],
   "source": [
    "from sklearn.linear_model import LinearRegression, Ridge, RidgeCV\n",
    "from sklearn.metrics import mean_squared_error"
   ]
  },
  {
   "cell_type": "code",
   "execution_count": 15,
   "metadata": {},
   "outputs": [],
   "source": [
    "# feature matrix\n",
    "X = get_feature_matrix(core_descriptors, bond_descriptors)\n",
    "\n",
    "# target values\n",
    "y = energies-energies.min()"
   ]
  },
  {
   "cell_type": "code",
   "execution_count": null,
   "metadata": {},
   "outputs": [
    {
     "data": {
      "text/plain": [
       "0.953012479357179"
      ]
     },
     "execution_count": 54,
     "metadata": {},
     "output_type": "execute_result"
    }
   ],
   "source": [
    "# this somehow does not work as I expect, see below\n",
    "reg = RidgeCV(alphas=[1e-5,1e-6,1e-7,1e-8,1e-9,1e-10,1e-11,1e-12]).fit(X, y)\n",
    "reg.score(X, y)"
   ]
  },
  {
   "cell_type": "code",
   "execution_count": null,
   "metadata": {},
   "outputs": [
    {
     "data": {
      "text/plain": [
       "1e-12"
      ]
     },
     "execution_count": 55,
     "metadata": {},
     "output_type": "execute_result"
    }
   ],
   "source": [
    "reg.alpha_"
   ]
  },
  {
   "cell_type": "code",
   "execution_count": null,
   "metadata": {},
   "outputs": [
    {
     "data": {
      "text/plain": [
       "0.9999832983255016"
      ]
     },
     "execution_count": 56,
     "metadata": {},
     "output_type": "execute_result"
    }
   ],
   "source": [
    "reg = Ridge(alpha=1e-11).fit(X, y)\n",
    "reg.score(X, y)"
   ]
  },
  {
   "cell_type": "code",
   "execution_count": null,
   "metadata": {},
   "outputs": [
    {
     "data": {
      "text/plain": [
       "1.6577845673621878e-07"
      ]
     },
     "execution_count": 57,
     "metadata": {},
     "output_type": "execute_result"
    }
   ],
   "source": [
    "mean_squared_error(reg.predict(X), y)"
   ]
  },
  {
   "cell_type": "code",
   "execution_count": null,
   "metadata": {
    "jupyter": {
     "source_hidden": true
    }
   },
   "outputs": [
    {
     "data": {
      "image/png": "[encoded data removed]",
      "text/plain": [
       "<Figure size 432x288 with 1 Axes>"
      ]
     },
     "metadata": {
      "needs_background": "light"
     },
     "output_type": "display_data"
    }
   ],
   "source": [
    "plt.scatter(reg.predict(X), y)\n",
    "plt.plot([0., y.max()], [0., y.max()], color='grey')\n",
    "plt.xlabel('predicted energy')\n",
    "plt.ylabel('actual energy')\n",
    "plt.show()"
   ]
  },
  {
   "cell_type": "code",
   "execution_count": null,
   "metadata": {},
   "outputs": [
    {
     "data": {
      "text/plain": [
       "array([-44.4342221 ,   1.27912546,   4.45880565,   4.45880571,\n",
       "         4.4588041 ,  27.36968498])"
      ]
     },
     "execution_count": 59,
     "metadata": {},
     "output_type": "execute_result"
    }
   ],
   "source": [
    "reg.coef_"
   ]
  },
  {
   "cell_type": "code",
   "execution_count": null,
   "metadata": {},
   "outputs": [
    {
     "data": {
      "text/plain": [
       "2315.3320266766013"
      ]
     },
     "execution_count": 60,
     "metadata": {},
     "output_type": "execute_result"
    }
   ],
   "source": [
    "reg.intercept_"
   ]
  },
  {
   "cell_type": "markdown",
   "metadata": {},
   "source": [
    "# Prediction for defect structure"
   ]
  },
  {
   "cell_type": "code",
   "execution_count": 4,
   "metadata": {},
   "outputs": [],
   "source": [
    "from cgf.cgatoms import write_cgatoms"
   ]
  },
  {
   "cell_type": "code",
   "execution_count": 3,
   "metadata": {},
   "outputs": [
    {
     "name": "stdout",
     "output_type": "stream",
     "text": [
      "148\n",
      "108\n",
      "18\n"
     ]
    }
   ],
   "source": [
    "s0 = read('../test-data/COF-5_opt_SW.gen', index=-1)\n",
    "remove_hatoms(s0)\n",
    "\n",
    "cy = find_cycles(s0)\n",
    "\n",
    "G_cy = cycle_graph(cy, s0.positions)\n",
    "\n",
    "for n in G_cy.nodes:\n",
    "    G_cy.nodes[n]['cl'] = len(G_cy.nodes[n]['cycle'])\n",
    "    \n",
    "mfs = find_unique_motifs(motif, G_cy)\n",
    "print(len(mfs))"
   ]
  },
  {
   "cell_type": "code",
   "execution_count": 5,
   "metadata": {},
   "outputs": [],
   "source": [
    "# we could also use collect_descriptors but for plotting some additional stuff is needed\n",
    "\n",
    "r0 = 30.082756/np.sqrt(3)\n",
    "\n",
    "core_descriptors = []\n",
    "bond_descriptors = []\n",
    "\n",
    "G_cy = cycle_graph(cy, s0.positions)\n",
    "\n",
    "r_c = np.array([G_cy.nodes[m['B']]['pos'].mean(axis=0) for m in mfs]) # compute core centers\n",
    "core_linker_dir = [[G_cy.nodes[m[ls]]['pos'].mean(axis=0)-G_cy.nodes[m['B']]['pos'].mean(axis=0) for ls in ['A', 'C', 'D']] for m in mfs]\n",
    "\n",
    "cg_atoms = Atoms(['Y'] * len(r_c), positions=r_c, cell=s0.cell, pbc=True) # create coarse-grained representation based on core centers\n",
    "cg_atoms.new_array('linker_sites', np.array(core_linker_dir)) # add positions of linker sites relative to core center\n",
    "\n",
    "_find_linker_neighbor(cg_atoms, r0)\n",
    "\n",
    "#save_pickle(cg_atoms, '../test-data/COF-5_opt_SW_cg.pkl')\n",
    "write_cgatoms(cg_atoms, '../test-data/COF-5_opt_SW_cg.json')\n",
    "\n",
    "bonds = _get_bonds(cg_atoms, r0)\n",
    "bond_desc = _get_bond_descriptors(cg_atoms, r0, bonds)\n",
    "bond_descriptors.append(bond_desc)\n",
    "\n",
    "core_desc = _get_core_descriptors(cg_atoms, r0)\n",
    "core_descriptors.append(core_desc)    "
   ]
  },
  {
   "cell_type": "code",
   "execution_count": 6,
   "metadata": {},
   "outputs": [
    {
     "data": {
      "image/png": "[encoded data removed]",
      "text/plain": [
       "<Figure size 720x720 with 1 Axes>"
      ]
     },
     "metadata": {
      "needs_background": "light"
     },
     "output_type": "display_data"
    }
   ],
   "source": [
    "natoms = len(cg_atoms)\n",
    "cell = cg_atoms.cell\n",
    "positions = cg_atoms.positions\n",
    "core_linker_dir = cg_atoms.get_array('linker_sites')\n",
    "core_linker_neigh = cg_atoms.get_array('linker_neighbors')\n",
    "\n",
    "nl = NeighborList( [1.2*r0/2] * natoms, self_interaction=False, bothways=True)\n",
    "nl.update(cg_atoms)\n",
    "\n",
    "fig = plt.figure(figsize=(10,10)) \n",
    "ax = fig.add_subplot(111, aspect='equal')\n",
    "\n",
    "ax.scatter(positions[:,0],positions[:,1], color='coral', marker='o', s=75, zorder=10)\n",
    "for i in range(core_linker_dir.shape[0]):\n",
    "    for li in range(core_linker_dir.shape[1]):\n",
    "        ax.arrow(positions[i,0],positions[i,1], core_linker_dir[i,li,0], core_linker_dir[i,li,1], color='coral', head_width=0.9, head_length=0.5, zorder=10)\n",
    "\n",
    "for ib,b in enumerate(bonds):\n",
    "    ii, nii, jj, njj = b[0], b[1], b[2], b[3]\n",
    "\n",
    "    # get angle for site ii\n",
    "    neighbors, offsets = nl.get_neighbors(ii)\n",
    "    cells = np.dot(offsets, cell)\n",
    "    distance_vectors = positions[neighbors] + cells - positions[ii]\n",
    "\n",
    "    v2 = core_linker_dir[ii][core_linker_neigh[ii,nii]] # vector to linkage site\n",
    "    v1 = distance_vectors[nii] # vector from ii to neighbor nii        \n",
    "    \n",
    "    ax.plot([positions[ii][0], positions[ii][0]+v1[0]/2], [positions[ii][1], positions[ii][1]+v1[1]/2], 'b--')\n",
    "    ax.annotate(str(ib), [positions[ii][0]+v1[0]/2, positions[ii][1]+v1[1]/2])\n",
    "        \n",
    "plt.show()"
   ]
  },
  {
   "cell_type": "code",
   "execution_count": 7,
   "metadata": {},
   "outputs": [
    {
     "name": "stdout",
     "output_type": "stream",
     "text": [
      "number of samples: 1\n",
      "number of linkers: 54\n",
      "number of descriptors per linker: 3\n",
      "number of cores: 18\n",
      "number of descriptors per core: 3\n"
     ]
    }
   ],
   "source": [
    "# feature matrix\n",
    "X = get_feature_matrix(core_descriptors, bond_descriptors)\n",
    "\n",
    "print('number of samples: %d' % (len(bond_descriptors)))\n",
    "print('number of linkers: %d' % (len(bond_descriptors[0])))\n",
    "print('number of descriptors per linker: %d' % (len(bond_descriptors[0][0])))\n",
    "print('number of cores: %d' % (len(core_descriptors[0])))\n",
    "print('number of descriptors per core: %d' % (len(core_descriptors[0][0])))"
   ]
  },
  {
   "cell_type": "code",
   "execution_count": null,
   "metadata": {},
   "outputs": [],
   "source": [
    "reg.intercept_ = reg.intercept_ * 54/6 # we have to adjust the intercept for the different number of linkers!"
   ]
  },
  {
   "cell_type": "code",
   "execution_count": null,
   "metadata": {},
   "outputs": [
    {
     "data": {
      "text/plain": [
       "array([12.75394916])"
      ]
     },
     "execution_count": 66,
     "metadata": {},
     "output_type": "execute_result"
    }
   ],
   "source": [
    "# final energy\n",
    "reg.predict(X)"
   ]
  },
  {
   "cell_type": "code",
   "execution_count": null,
   "metadata": {},
   "outputs": [
    {
     "data": {
      "text/plain": [
       "12.75394916022924"
      ]
     },
     "execution_count": 67,
     "metadata": {},
     "output_type": "execute_result"
    }
   ],
   "source": [
    "np.dot(reg.coef_, X.reshape(-1)) + reg.intercept_"
   ]
  },
  {
   "cell_type": "markdown",
   "metadata": {},
   "source": [
    "# Calculator"
   ]
  },
  {
   "cell_type": "code",
   "execution_count": 8,
   "metadata": {},
   "outputs": [],
   "source": [
    "from cgf.surrogate_ref import MikadoRR"
   ]
  },
  {
   "cell_type": "code",
   "execution_count": 9,
   "metadata": {},
   "outputs": [],
   "source": [
    "calc = MikadoRR(r0=30.082756/np.sqrt(3), rr_coeff=np.array([-44.4342221, 1.27912546, 4.45880587, 4.45880586,\n",
    "         4.45880373, 27.369685]), rr_incpt=2315.3320266790165/6, opt=False)"
   ]
  },
  {
   "cell_type": "code",
   "execution_count": 10,
   "metadata": {},
   "outputs": [],
   "source": [
    "cg_atoms.calc = calc"
   ]
  },
  {
   "cell_type": "code",
   "execution_count": 11,
   "metadata": {},
   "outputs": [
    {
     "data": {
      "text/plain": [
       "12.753976338633947"
      ]
     },
     "execution_count": 11,
     "metadata": {},
     "output_type": "execute_result"
    }
   ],
   "source": [
    "cg_atoms.get_potential_energy()"
   ]
  },
  {
   "cell_type": "code",
   "execution_count": null,
   "metadata": {},
   "outputs": [
    {
     "data": {
      "text/plain": [
       "array([[-1.98963313e-01,  4.54656629e-01,  3.14966108e-06],\n",
       "       [ 4.91973482e-01,  5.73868113e-02,  2.84772887e-06],\n",
       "       [-2.98146972e-01, -4.07764430e-02,  2.36940983e-07],\n",
       "       [-5.46192726e-01,  3.10203528e-01, -4.13460524e-07],\n",
       "       [ 7.01851984e-01, -4.08979914e-01, -3.38357321e-06],\n",
       "       [ 3.37198901e-02, -1.85873727e-02, -1.69800862e-06],\n",
       "       [ 5.44608041e-01, -3.21909429e-01,  5.53481600e-07],\n",
       "       [ 1.12947155e-01, -2.78699166e-01, -4.65993317e-07],\n",
       "       [ 3.48910534e-01,  6.11996161e-01, -2.60438993e-07],\n",
       "       [-3.48752627e-01, -6.12350214e-01, -1.50194665e-07],\n",
       "       [-1.12964836e-01,  2.78699102e-01, -2.37471211e-07],\n",
       "       [-5.44567788e-01,  3.22331923e-01,  2.16218943e-07],\n",
       "       [-3.38780142e-02,  1.85654409e-02, -2.08992156e-06],\n",
       "       [-7.01774738e-01,  4.08932902e-01, -4.14160766e-06],\n",
       "       [ 5.46292514e-01, -3.10413894e-01, -2.56564860e-07],\n",
       "       [ 2.98062162e-01,  4.10140343e-02,  1.44003047e-07],\n",
       "       [-4.92083276e-01, -5.72986514e-02,  3.43407067e-06],\n",
       "       [ 1.98958529e-01, -4.54771446e-01,  2.51512943e-06]])"
      ]
     },
     "execution_count": 91,
     "metadata": {},
     "output_type": "execute_result"
    }
   ],
   "source": [
    "ana_forces = cg_atoms.get_forces()\n",
    "ana_forces"
   ]
  },
  {
   "cell_type": "code",
   "execution_count": null,
   "metadata": {},
   "outputs": [
    {
     "data": {
      "text/plain": [
       "array([[-1.98963278e-01,  4.54656540e-01,  3.14685167e-06],\n",
       "       [ 4.91973527e-01,  5.73869129e-02,  2.84853741e-06],\n",
       "       [-2.98146939e-01, -4.07765310e-02,  2.38287612e-07],\n",
       "       [-5.46192781e-01,  3.10203570e-01, -4.12910595e-07],\n",
       "       [ 7.01851972e-01, -4.08979991e-01, -3.38695827e-06],\n",
       "       [ 3.37198835e-02, -1.85872759e-02, -1.69711711e-06],\n",
       "       [ 5.44607978e-01, -3.21909498e-01,  5.49334800e-07],\n",
       "       [ 1.12947191e-01, -2.78699075e-01, -4.67480277e-07],\n",
       "       [ 3.48910638e-01,  6.11996164e-01, -2.58296495e-07],\n",
       "       [-3.48752728e-01, -6.12350223e-01, -1.50976120e-07],\n",
       "       [-1.12964875e-01,  2.78699006e-01, -2.38287612e-07],\n",
       "       [-5.44567723e-01,  3.22331993e-01,  2.11002771e-07],\n",
       "       [-3.38780046e-02,  1.85653389e-02, -2.09001882e-06],\n",
       "       [-7.01774727e-01,  4.08932978e-01, -4.14729584e-06],\n",
       "       [ 5.46292564e-01, -3.10413940e-01, -2.60115485e-07],\n",
       "       [ 2.98062125e-01,  4.10141238e-02,  1.47338142e-07],\n",
       "       [-4.92083314e-01, -5.72987537e-02,  3.43243300e-06],\n",
       "       [ 1.98958493e-01, -4.54771358e-01,  2.52111931e-06]])"
      ]
     },
     "execution_count": 92,
     "metadata": {},
     "output_type": "execute_result"
    }
   ],
   "source": [
    "num_forces = calc.calculate_numerical_forces(cg_atoms)\n",
    "num_forces"
   ]
  },
  {
   "cell_type": "code",
   "execution_count": null,
   "metadata": {},
   "outputs": [
    {
     "data": {
      "text/plain": [
       "array([[-3.48841874e-08,  8.88626309e-08,  2.80941326e-09],\n",
       "       [-4.54937392e-08, -1.01573442e-07, -8.08531748e-10],\n",
       "       [-3.31698506e-08,  8.80439857e-08, -1.34662929e-09],\n",
       "       [ 5.54407178e-08, -4.20941030e-08, -5.49929416e-10],\n",
       "       [ 1.25762789e-08,  7.76030963e-08,  3.38505875e-09],\n",
       "       [ 6.58171594e-09, -9.68038942e-08, -8.91507958e-10],\n",
       "       [ 6.32807300e-08,  6.88787835e-08,  4.14679987e-09],\n",
       "       [-3.59233432e-08, -9.07285146e-08,  1.48695974e-09],\n",
       "       [-1.04648501e-07, -2.84614232e-09, -2.14249776e-09],\n",
       "       [ 1.01304572e-07,  8.16165224e-09,  7.81455636e-10],\n",
       "       [ 3.88965385e-08,  9.60697111e-08,  8.16400656e-10],\n",
       "       [-6.47558158e-08, -6.99530666e-08,  5.21617175e-09],\n",
       "       [-9.60073567e-09,  1.01986006e-07,  9.72669442e-11],\n",
       "       [-1.18695811e-08, -7.62165555e-08,  5.68817712e-09],\n",
       "       [-4.94359755e-08,  4.55770264e-08,  3.55062483e-09],\n",
       "       [ 3.67233855e-08, -8.95243705e-08, -3.33509501e-09],\n",
       "       [ 3.87093690e-08,  1.02378551e-07,  1.63766516e-09],\n",
       "       [ 3.62684180e-08, -8.78124660e-08, -5.98988731e-09]])"
      ]
     },
     "execution_count": 93,
     "metadata": {},
     "output_type": "execute_result"
    }
   ],
   "source": [
    "ana_forces - num_forces"
   ]
  },
  {
   "cell_type": "code",
   "execution_count": null,
   "metadata": {},
   "outputs": [
    {
     "data": {
      "text/plain": [
       "12.753976338633947"
      ]
     },
     "execution_count": 94,
     "metadata": {},
     "output_type": "execute_result"
    }
   ],
   "source": [
    "p0 = cg_atoms.get_array('linker_sites')\n",
    "_energy_internal(p0.reshape(-1), cg_atoms, calc.parameters.r0, calc.parameters.rr_coeff, calc.parameters.rr_incpt)"
   ]
  },
  {
   "cell_type": "code",
   "execution_count": null,
   "metadata": {},
   "outputs": [],
   "source": [
    "int_gradient = _internal_gradient(p0.reshape(-1), cg_atoms, calc.parameters.r0, calc.parameters.rr_coeff, calc.parameters.rr_incpt)"
   ]
  },
  {
   "cell_type": "code",
   "execution_count": null,
   "metadata": {},
   "outputs": [
    {
     "data": {
      "text/plain": [
       "array([[ 7.04322508e-07,  2.72414421e-06,  2.20497096e-09],\n",
       "       [-1.47725957e-06, -2.10186088e-07,  6.56790345e-10],\n",
       "       [-3.10275915e-06,  2.78903452e-06,  5.04354770e-10],\n",
       "       [-2.58779024e-06, -3.31509484e-06, -3.36643216e-10],\n",
       "       [-1.34715171e-06,  4.06340691e-07,  6.27115322e-10],\n",
       "       [ 7.42371397e-07, -3.16691012e-06,  1.23375815e-10],\n",
       "       [ 1.00314893e-06,  2.61221812e-06, -9.17312765e-10],\n",
       "       [-8.09609920e-07, -1.48938379e-07, -5.53663133e-10],\n",
       "       [-2.03807872e-06,  3.33789354e-06,  3.78234206e-10],\n",
       "       [-4.52706058e-07, -1.24504152e-06,  1.86900454e-09],\n",
       "       [ 1.72476846e-06,  4.68848731e-07, -1.50443254e-09],\n",
       "       [ 2.76814245e-06, -3.01896382e-06,  6.80522333e-10],\n",
       "       [ 1.87855134e-06,  2.86755194e-06, -1.65832949e-09],\n",
       "       [ 4.71541748e-07,  2.42526303e-09, -3.41015247e-10],\n",
       "       [-1.87311937e-06,  3.23952036e-06,  2.20939800e-10],\n",
       "       [-1.81562716e-06, -3.34685095e-06, -5.93151278e-10],\n",
       "       [ 3.09867252e-07,  5.39039228e-10,  6.89613361e-11],\n",
       "       [ 1.82250071e-06, -3.15947866e-06, -1.93500734e-10],\n",
       "       [ 2.94818598e-06,  2.93439864e-06, -9.36064614e-10],\n",
       "       [ 2.68672519e-06, -6.01783166e-07,  1.05858478e-09],\n",
       "       [-8.37938428e-07,  2.64155152e-06, -2.13575519e-09],\n",
       "       [-2.50518502e-06, -3.02996127e-06, -6.89564801e-10],\n",
       "       [-1.19641442e-06,  1.88831509e-07,  5.36981921e-10],\n",
       "       [ 1.48348977e-06, -2.70751471e-06, -4.99791036e-10],\n",
       "       [-2.77006805e-06,  2.32437373e-06, -7.58406174e-10],\n",
       "       [ 4.04169015e-08,  5.43697933e-08, -4.58528705e-10],\n",
       "       [-3.13676831e-06, -1.81114587e-06,  6.27254907e-11],\n",
       "       [ 2.76995069e-06, -2.32202701e-06, -4.44425049e-10],\n",
       "       [-3.92364338e-08, -5.84145019e-08, -1.09154890e-09],\n",
       "       [ 3.13458790e-06,  1.80895212e-06, -4.30142133e-10],\n",
       "       [ 2.51198678e-06,  3.03075559e-06, -2.21739690e-10],\n",
       "       [ 1.19810605e-06, -1.89951056e-07,  1.15579188e-10],\n",
       "       [-1.48494386e-06,  2.70875939e-06,  4.27892337e-10],\n",
       "       [-2.94574759e-06, -2.93294862e-06, -1.59158811e-09],\n",
       "       [-2.68899180e-06,  6.05315490e-07,  9.86727300e-10],\n",
       "       [ 8.37833058e-07, -2.63767695e-06, -5.04482265e-10],\n",
       "       [ 1.81626724e-06,  3.34705518e-06,  1.66788353e-10],\n",
       "       [-3.13970280e-07, -1.62720702e-09, -1.60823903e-09],\n",
       "       [-1.81996731e-06,  3.15926773e-06, -3.54267427e-10],\n",
       "       [-1.87793047e-06, -2.86620458e-06, -6.31017475e-10],\n",
       "       [-4.74345015e-07, -2.76778224e-09, -1.86781907e-09],\n",
       "       [ 1.87709023e-06, -3.24074763e-06,  3.39660255e-11],\n",
       "       [ 4.52997271e-07,  1.25029328e-06, -6.97185298e-10],\n",
       "       [-1.72045009e-06, -4.70008307e-07,  2.68361362e-10],\n",
       "       [-2.76627390e-06,  3.01633725e-06, -8.36358228e-10],\n",
       "       [-1.00254773e-06, -2.61424002e-06, -4.19044360e-10],\n",
       "       [ 8.10236014e-07,  1.41590493e-07,  1.21034487e-09],\n",
       "       [ 2.03956695e-06, -3.33842984e-06,  1.85886298e-09],\n",
       "       [ 2.59153464e-06,  3.31270875e-06,  8.51034856e-10],\n",
       "       [ 1.34835611e-06, -4.05098964e-07, -5.13408102e-10],\n",
       "       [-7.41168110e-07,  3.16677198e-06,  4.86830615e-10],\n",
       "       [-7.05283734e-07, -2.72341386e-06, -1.75038533e-09],\n",
       "       [ 1.47581405e-06,  2.06843316e-07,  1.00490841e-10],\n",
       "       [ 3.10306806e-06, -2.78955798e-06, -8.37944147e-10]])"
      ]
     },
     "execution_count": 96,
     "metadata": {},
     "output_type": "execute_result"
    }
   ],
   "source": [
    "import itertools\n",
    "\n",
    "num_int_grad = [[_num_internal_gradient(cg_atoms, at, li, i, calc.parameters.r0, calc.parameters.rr_coeff, calc.parameters.rr_incpt) for i in range(3)] for (at,li) in itertools.product(range(natoms), range(3))]\n",
    "\n",
    "np.array(num_int_grad) - int_gradient.reshape((54,3))"
   ]
  },
  {
   "cell_type": "code",
   "execution_count": null,
   "metadata": {},
   "outputs": [
    {
     "data": {
      "text/plain": [
       "12.753976338633947"
      ]
     },
     "execution_count": 97,
     "metadata": {},
     "output_type": "execute_result"
    }
   ],
   "source": [
    "calc = MikadoRR(r0=30.082756/np.sqrt(3), rr_coeff=np.array([-44.4342221, 1.27912546, 4.45880587, 4.45880586,\n",
    "         4.45880373, 27.369685]), rr_incpt=2315.3320266790165/6, opt=True)\n",
    "\n",
    "cg_atoms.calc = calc\n",
    "\n",
    "cg_atoms.get_potential_energy()"
   ]
  },
  {
   "cell_type": "markdown",
   "metadata": {},
   "source": [
    "### Compare MikadoRR versions"
   ]
  },
  {
   "cell_type": "code",
   "execution_count": 12,
   "metadata": {},
   "outputs": [],
   "source": [
    "from cgf.surrogate_ref import MikadoRR\n",
    "from cgf.surrogate import MikadoRR as MikadoRR_V2\n",
    "\n",
    "from cgf.cgatoms import read_cgatoms"
   ]
  },
  {
   "cell_type": "code",
   "execution_count": 13,
   "metadata": {},
   "outputs": [],
   "source": [
    "cg_atoms_V1 = read_cgatoms('../test-data/COF-5_opt_SW_cg.json')"
   ]
  },
  {
   "cell_type": "code",
   "execution_count": 14,
   "metadata": {},
   "outputs": [
    {
     "name": "stdout",
     "output_type": "stream",
     "text": [
      "Optimization terminated successfully.\n",
      "         Current function value: 11.982403\n",
      "         Iterations: 7\n",
      "         Function evaluations: 15\n",
      "         Gradient evaluations: 15\n",
      "Optimization terminated successfully.\n",
      "         Current function value: 11.982403\n",
      "         Iterations: 7\n",
      "         Function evaluations: 15\n",
      "         Gradient evaluations: 15\n"
     ]
    }
   ],
   "source": [
    "#%%timeit\n",
    "calc = MikadoRR(r0=30.082756/np.sqrt(3), rr_coeff=np.array([-44.4342221, 1.27912546, 4.45880587, 4.45880586,\n",
    "         4.45880373, 27.369685]), rr_incpt=2315.3320266790165/6)\n",
    "\n",
    "cg_atoms_V1.calc = calc\n",
    "cg_atoms_V1.get_potential_energy()\n",
    "ana_forces = cg_atoms_V1.get_forces()\n"
   ]
  },
  {
   "cell_type": "code",
   "execution_count": 15,
   "metadata": {},
   "outputs": [],
   "source": [
    "cg_atoms_V2 = read_cgatoms('../test-data/COF-5_opt_SW_cg.json')"
   ]
  },
  {
   "cell_type": "code",
   "execution_count": 16,
   "metadata": {},
   "outputs": [
    {
     "name": "stdout",
     "output_type": "stream",
     "text": [
      "Optimization terminated successfully.\n",
      "         Current function value: 11.982403\n",
      "         Iterations: 7\n",
      "         Function evaluations: 15\n",
      "         Gradient evaluations: 15\n",
      "Optimization terminated successfully.\n",
      "         Current function value: 11.982403\n",
      "         Iterations: 7\n",
      "         Function evaluations: 15\n",
      "         Gradient evaluations: 15\n"
     ]
    }
   ],
   "source": [
    "#%%timeit\n",
    "calc = MikadoRR_V2(r0=30.082756/np.sqrt(3), rr_coeff=np.array([-44.4342221, 1.27912546, 4.45880587, 4.45880586,\n",
    "         4.45880373, 27.369685]), rr_incpt=2315.3320266790165/6)\n",
    "\n",
    "cg_atoms_V2.calc = calc\n",
    "cg_atoms_V2.get_potential_energy()\n",
    "ana_forces = cg_atoms_V2.get_forces()"
   ]
  },
  {
   "cell_type": "code",
   "execution_count": 17,
   "metadata": {},
   "outputs": [
    {
     "data": {
      "text/plain": [
       "0.0"
      ]
     },
     "execution_count": 17,
     "metadata": {},
     "output_type": "execute_result"
    }
   ],
   "source": [
    "cg_atoms_V1.get_potential_energy() - cg_atoms_V2.get_potential_energy()"
   ]
  },
  {
   "cell_type": "code",
   "execution_count": 18,
   "metadata": {},
   "outputs": [
    {
     "data": {
      "text/plain": [
       "array([[0., 0., 0.],\n",
       "       [0., 0., 0.],\n",
       "       [0., 0., 0.],\n",
       "       [0., 0., 0.],\n",
       "       [0., 0., 0.],\n",
       "       [0., 0., 0.],\n",
       "       [0., 0., 0.],\n",
       "       [0., 0., 0.],\n",
       "       [0., 0., 0.],\n",
       "       [0., 0., 0.],\n",
       "       [0., 0., 0.],\n",
       "       [0., 0., 0.],\n",
       "       [0., 0., 0.],\n",
       "       [0., 0., 0.],\n",
       "       [0., 0., 0.],\n",
       "       [0., 0., 0.],\n",
       "       [0., 0., 0.],\n",
       "       [0., 0., 0.]])"
      ]
     },
     "execution_count": 18,
     "metadata": {},
     "output_type": "execute_result"
    }
   ],
   "source": [
    "cg_atoms_V1.get_forces() - cg_atoms_V2.get_forces()"
   ]
  }
 ],
 "metadata": {
  "kernelspec": {
   "display_name": "Python 3",
   "language": "python",
   "name": "python3"
  },
  "language_info": {
   "codemirror_mode": {
    "name": "ipython",
    "version": 3
   },
   "file_extension": ".py",
   "mimetype": "text/x-python",
   "name": "python",
   "nbconvert_exporter": "python",
   "pygments_lexer": "ipython3",
   "version": "3.7.11"
  },
  "vscode": {
   "interpreter": {
    "hash": "f73dddfd4a60ef34f659ef713707f286d0fb6cc1ea54e0d810b2463eb16cf75e"
   }
  }
 },
 "nbformat": 4,
 "nbformat_minor": 4
}

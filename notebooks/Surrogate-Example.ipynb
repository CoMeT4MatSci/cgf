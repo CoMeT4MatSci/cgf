{
 "cells": [
  {
   "cell_type": "code",
   "execution_count": 1,
   "metadata": {},
   "outputs": [],
   "source": [
    "import sys, os\n",
    "sys.path.insert(0, '../')\n",
    "\n",
    "import matplotlib.pyplot as plt\n",
    "import numpy as np\n",
    "\n",
    "import networkx as nx\n",
    "\n",
    "from ase import Atoms\n",
    "from ase.io import read\n",
    "from ase.neighborlist import NeighborList\n",
    "\n",
    "from cgf.cycles import find_cycles, cycle_graph\n",
    "from cgf.motifs import find_unique_motifs\n",
    "from cgf.utils import remove_hatoms\n",
    "from cgf.bnff import _get_bonds, _get_phi0\n",
    "\n",
    "from cgf.surrogate import _find_linker_neighbor, _get_core_descriptors, _get_bond_descriptors, collect_descriptors, get_feature_matrix"
   ]
  },
  {
   "cell_type": "code",
   "execution_count": 2,
   "metadata": {
    "tags": []
   },
   "outputs": [],
   "source": [
    "# Tp Core Motif\n",
    "motif = nx.Graph()\n",
    "motif.add_edge(\"A\", \"B\")\n",
    "motif.add_edge(\"C\", \"B\")\n",
    "motif.add_edge(\"D\", \"B\")\n",
    "\n",
    "# all hexagons\n",
    "motif.nodes['A']['cl'] = 6\n",
    "motif.nodes['B']['cl'] = 6\n",
    "motif.nodes['C']['cl'] = 6\n",
    "motif.nodes['D']['cl'] = 6"
   ]
  },
  {
   "cell_type": "markdown",
   "metadata": {},
   "source": [
    "# Descriptors from deformed unitcell"
   ]
  },
  {
   "cell_type": "code",
   "execution_count": 3,
   "metadata": {},
   "outputs": [],
   "source": [
    "# the individual structures are stored in separate directories as json files\n",
    "\n",
    "r0 = 30.082756/np.sqrt(3)\n",
    "\n",
    "structures = []\n",
    "energies = []\n",
    "cells = []\n",
    "bulk_or_shear = []\n",
    "for fname in [f.path for f in os.scandir('../test-data/Triphenylene-DB_1phenyl/') if f.is_dir()]:\n",
    "    s0 = read(fname + '/result.json')\n",
    "    energies.append(s0.get_potential_energy())\n",
    "    cells.append(s0.cell.array.copy())\n",
    "    bulk_or_shear.append('bulk' in fname)\n",
    "    remove_hatoms(s0)\n",
    "    structures.append(s0)\n",
    "    \n",
    "energies = np.array(energies)"
   ]
  },
  {
   "cell_type": "code",
   "execution_count": 4,
   "metadata": {},
   "outputs": [
    {
     "data": {
      "text/plain": [
       "Atoms(symbols='C54B6O12', pbc=True, cell=[[30.203077023309184, 0.0, 0.0], [-15.101538501614591, 25.948212598422142, 0.0], [0.0, 0.0, 30.0]], calculator=SinglePointCalculator(...))"
      ]
     },
     "execution_count": 4,
     "metadata": {},
     "output_type": "execute_result"
    }
   ],
   "source": [
    "structures[0]"
   ]
  },
  {
   "cell_type": "code",
   "execution_count": 5,
   "metadata": {},
   "outputs": [
    {
     "name": "stdout",
     "output_type": "stream",
     "text": [
      "15\n",
      "12\n",
      "2\n"
     ]
    }
   ],
   "source": [
    "# find the cycles in the first structure\n",
    "# it is assumed that the topology does not change and we can reuse this information\n",
    "cy = find_cycles(structures[0])\n",
    "\n",
    "G_cy = cycle_graph(cy, structures[0].positions)\n",
    "\n",
    "# annotate cycles with cycle length\n",
    "for n in G_cy.nodes:\n",
    "    G_cy.nodes[n]['cl'] = len(G_cy.nodes[n]['cycle'])\n",
    "\n",
    "mfs = find_unique_motifs(motif, G_cy)\n",
    "print(len(mfs))\n",
    "\n",
    "\n",
    "### this part is only needed for the plot in the next cell \n",
    "r_c = np.array([G_cy.nodes[m['B']]['pos'].mean(axis=0) for m in mfs]) # compute core centers\n",
    "core_linker_dir = [[G_cy.nodes[m[ls]]['pos'].mean(axis=0)-G_cy.nodes[m['B']]['pos'].mean(axis=0) for ls in ['A', 'C', 'D']] for m in mfs]\n",
    "\n",
    "cg_atoms = Atoms(['Y'] * len(r_c), positions=r_c, cell=s0.cell, pbc=True) # create coarse-grained representation based on core centers\n",
    "cg_atoms.new_array('linker_sites', np.array(core_linker_dir)) # add positions of linker sites relative to core center\n",
    "\n",
    "_find_linker_neighbor(cg_atoms, r0)\n",
    "###\n"
   ]
  },
  {
   "cell_type": "code",
   "execution_count": 6,
   "metadata": {},
   "outputs": [
    {
     "data": {
      "image/png": "[encoded data removed]",
      "text/plain": [
       "<Figure size 720x720 with 1 Axes>"
      ]
     },
     "metadata": {
      "needs_background": "light"
     },
     "output_type": "display_data"
    }
   ],
   "source": [
    "natoms = len(cg_atoms)\n",
    "cell = cg_atoms.cell\n",
    "positions = cg_atoms.positions\n",
    "core_linker_dir = cg_atoms.get_array('linker_sites')\n",
    "core_linker_neigh = cg_atoms.get_array('linker_neighbors')\n",
    "bonds = _get_bonds(cg_atoms, r0)\n",
    "\n",
    "nl = NeighborList( [1.2*r0/2] * natoms, self_interaction=False, bothways=True)\n",
    "nl.update(cg_atoms)\n",
    "\n",
    "fig = plt.figure(figsize=(10,10)) \n",
    "ax = fig.add_subplot(111, aspect='equal')\n",
    "\n",
    "ax.scatter(positions[:,0],positions[:,1], color='coral', marker='o', s=75, zorder=10)\n",
    "for i in range(core_linker_dir.shape[0]):\n",
    "    for li in range(core_linker_dir.shape[1]):\n",
    "        ax.arrow(positions[i,0],positions[i,1], core_linker_dir[i,li,0], core_linker_dir[i,li,1], color='coral', head_width=0.9, head_length=0.5, zorder=10)\n",
    "\n",
    "for ib,b in enumerate(bonds):\n",
    "    ii, nii, jj, njj = b[0], b[1], b[2], b[3]\n",
    "\n",
    "    # get angle for site ii\n",
    "    neighbors, offsets = nl.get_neighbors(ii)\n",
    "    cells = np.dot(offsets, cell)\n",
    "    distance_vectors = positions[neighbors] + cells - positions[ii]\n",
    "\n",
    "    v2 = core_linker_dir[ii][core_linker_neigh[ii,nii]] # vector to linkage site\n",
    "    v1 = distance_vectors[nii] # vector from ii to neighbor nii        \n",
    "    \n",
    "    ax.plot([positions[ii][0], positions[ii][0]+v1[0]/2], [positions[ii][1], positions[ii][1]+v1[1]/2], 'b--')\n",
    "    ax.annotate(str(ib), [positions[ii][0]+v1[0]/2, positions[ii][1]+v1[1]/2])\n",
    "        \n",
    "plt.show()"
   ]
  },
  {
   "cell_type": "code",
   "execution_count": 7,
   "metadata": {},
   "outputs": [
    {
     "name": "stdout",
     "output_type": "stream",
     "text": [
      "number of samples: 28\n",
      "number of linkers: 6\n",
      "number of descriptors per linker: 3\n",
      "number of cores: 2\n",
      "number of descriptors per core: 3\n"
     ]
    }
   ],
   "source": [
    "core_descriptors, bond_descriptors = collect_descriptors(structures, cy, mfs, r0)\n",
    "\n",
    "print('number of samples: %d' % (len(bond_descriptors)))\n",
    "print('number of linkers: %d' % (len(bond_descriptors[0])))\n",
    "print('number of descriptors per linker: %d' % (len(bond_descriptors[0][0])))\n",
    "print('number of cores: %d' % (len(core_descriptors[0])))\n",
    "print('number of descriptors per core: %d' % (len(core_descriptors[0][0])))"
   ]
  },
  {
   "cell_type": "markdown",
   "metadata": {},
   "source": [
    "# Training using Ridge regression"
   ]
  },
  {
   "cell_type": "code",
   "execution_count": 8,
   "metadata": {},
   "outputs": [],
   "source": [
    "from sklearn.linear_model import LinearRegression, Ridge, RidgeCV\n",
    "from sklearn.metrics import mean_squared_error"
   ]
  },
  {
   "cell_type": "code",
   "execution_count": 9,
   "metadata": {},
   "outputs": [],
   "source": [
    "# feature matrix\n",
    "X = get_feature_matrix(core_descriptors, bond_descriptors)\n",
    "\n",
    "# target values\n",
    "y = energies-energies.min()"
   ]
  },
  {
   "cell_type": "code",
   "execution_count": 10,
   "metadata": {},
   "outputs": [
    {
     "data": {
      "text/plain": [
       "0.3797486516367544"
      ]
     },
     "execution_count": 10,
     "metadata": {},
     "output_type": "execute_result"
    }
   ],
   "source": [
    "# this somehow does not work as I expect, see below\n",
    "reg = RidgeCV(alphas=[1e-5,1e-6,1e-7,1e-8,1e-9,1e-10,1e-11,1e-12]).fit(X, y)\n",
    "reg.score(X, y)"
   ]
  },
  {
   "cell_type": "code",
   "execution_count": 11,
   "metadata": {},
   "outputs": [
    {
     "data": {
      "text/plain": [
       "1e-12"
      ]
     },
     "execution_count": 11,
     "metadata": {},
     "output_type": "execute_result"
    }
   ],
   "source": [
    "reg.alpha_"
   ]
  },
  {
   "cell_type": "code",
   "execution_count": 12,
   "metadata": {},
   "outputs": [
    {
     "data": {
      "text/plain": [
       "0.9999832983254922"
      ]
     },
     "execution_count": 12,
     "metadata": {},
     "output_type": "execute_result"
    }
   ],
   "source": [
    "reg = Ridge(alpha=1e-11).fit(X, y)\n",
    "reg.score(X, y)"
   ]
  },
  {
   "cell_type": "code",
   "execution_count": 13,
   "metadata": {},
   "outputs": [
    {
     "data": {
      "text/plain": [
       "1.657784568295845e-07"
      ]
     },
     "execution_count": 13,
     "metadata": {},
     "output_type": "execute_result"
    }
   ],
   "source": [
    "mean_squared_error(reg.predict(X), y)"
   ]
  },
  {
   "cell_type": "code",
   "execution_count": 14,
   "metadata": {
    "jupyter": {
     "source_hidden": true
    }
   },
   "outputs": [
    {
     "data": {
      "image/png": "[encoded data removed]",
      "text/plain": [
       "<Figure size 432x288 with 1 Axes>"
      ]
     },
     "metadata": {
      "needs_background": "light"
     },
     "output_type": "display_data"
    }
   ],
   "source": [
    "plt.scatter(reg.predict(X), y)\n",
    "plt.plot([0., y.max()], [0., y.max()], color='grey')\n",
    "plt.xlabel('predicted energy')\n",
    "plt.ylabel('actual energy')\n",
    "plt.show()"
   ]
  },
  {
   "cell_type": "code",
   "execution_count": 15,
   "metadata": {},
   "outputs": [
    {
     "data": {
      "text/plain": [
       "array([-44.4342221 ,   1.27912546,   4.45880587,   4.45880586,\n",
       "         4.45880373,  27.369685  ])"
      ]
     },
     "execution_count": 15,
     "metadata": {},
     "output_type": "execute_result"
    }
   ],
   "source": [
    "reg.coef_"
   ]
  },
  {
   "cell_type": "code",
   "execution_count": 17,
   "metadata": {},
   "outputs": [
    {
     "data": {
      "text/plain": [
       "2315.3320266790165"
      ]
     },
     "execution_count": 17,
     "metadata": {},
     "output_type": "execute_result"
    }
   ],
   "source": [
    "reg.intercept_"
   ]
  },
  {
   "cell_type": "markdown",
   "metadata": {},
   "source": [
    "# Prediction for defect structure"
   ]
  },
  {
   "cell_type": "code",
   "execution_count": 18,
   "metadata": {},
   "outputs": [
    {
     "name": "stdout",
     "output_type": "stream",
     "text": [
      "148\n",
      "108\n",
      "18\n"
     ]
    }
   ],
   "source": [
    "s0 = read('../test-data/COF-5_opt_SW.gen', index=-1)\n",
    "remove_hatoms(s0)\n",
    "\n",
    "cy = find_cycles(s0)\n",
    "\n",
    "G_cy = cycle_graph(cy, s0.positions)\n",
    "\n",
    "for n in G_cy.nodes:\n",
    "    G_cy.nodes[n]['cl'] = len(G_cy.nodes[n]['cycle'])\n",
    "    \n",
    "mfs = find_unique_motifs(motif, G_cy)\n",
    "print(len(mfs))"
   ]
  },
  {
   "cell_type": "code",
   "execution_count": 19,
   "metadata": {},
   "outputs": [],
   "source": [
    "# we could also use collect_descriptors but for plotting some additional stuff is needed\n",
    "\n",
    "r0 = 30.082756/np.sqrt(3)\n",
    "\n",
    "core_descriptors = []\n",
    "bond_descriptors = []\n",
    "\n",
    "G_cy = cycle_graph(cy, s0.positions)\n",
    "\n",
    "r_c = np.array([G_cy.nodes[m['B']]['pos'].mean(axis=0) for m in mfs]) # compute core centers\n",
    "core_linker_dir = [[G_cy.nodes[m[ls]]['pos'].mean(axis=0)-G_cy.nodes[m['B']]['pos'].mean(axis=0) for ls in ['A', 'C', 'D']] for m in mfs]\n",
    "\n",
    "cg_atoms = Atoms(['Y'] * len(r_c), positions=r_c, cell=s0.cell, pbc=True) # create coarse-grained representation based on core centers\n",
    "cg_atoms.new_array('linker_sites', np.array(core_linker_dir)) # add positions of linker sites relative to core center\n",
    "\n",
    "_find_linker_neighbor(cg_atoms, r0)\n",
    "\n",
    "bonds = _get_bonds(cg_atoms, r0)\n",
    "bond_desc = _get_bond_descriptors(cg_atoms, r0, bonds)\n",
    "bond_descriptors.append(bond_desc)\n",
    "\n",
    "core_desc = _get_core_descriptors(cg_atoms, r0)\n",
    "core_descriptors.append(core_desc)    "
   ]
  },
  {
   "cell_type": "code",
   "execution_count": 20,
   "metadata": {},
   "outputs": [
    {
     "data": {
      "image/png": "[encoded data removed]",
      "text/plain": [
       "<Figure size 720x720 with 1 Axes>"
      ]
     },
     "metadata": {
      "needs_background": "light"
     },
     "output_type": "display_data"
    }
   ],
   "source": [
    "natoms = len(cg_atoms)\n",
    "cell = cg_atoms.cell\n",
    "positions = cg_atoms.positions\n",
    "core_linker_dir = cg_atoms.get_array('linker_sites')\n",
    "core_linker_neigh = cg_atoms.get_array('linker_neighbors')\n",
    "\n",
    "nl = NeighborList( [1.2*r0/2] * natoms, self_interaction=False, bothways=True)\n",
    "nl.update(cg_atoms)\n",
    "\n",
    "fig = plt.figure(figsize=(10,10)) \n",
    "ax = fig.add_subplot(111, aspect='equal')\n",
    "\n",
    "ax.scatter(positions[:,0],positions[:,1], color='coral', marker='o', s=75, zorder=10)\n",
    "for i in range(core_linker_dir.shape[0]):\n",
    "    for li in range(core_linker_dir.shape[1]):\n",
    "        ax.arrow(positions[i,0],positions[i,1], core_linker_dir[i,li,0], core_linker_dir[i,li,1], color='coral', head_width=0.9, head_length=0.5, zorder=10)\n",
    "\n",
    "for ib,b in enumerate(bonds):\n",
    "    ii, nii, jj, njj = b[0], b[1], b[2], b[3]\n",
    "\n",
    "    # get angle for site ii\n",
    "    neighbors, offsets = nl.get_neighbors(ii)\n",
    "    cells = np.dot(offsets, cell)\n",
    "    distance_vectors = positions[neighbors] + cells - positions[ii]\n",
    "\n",
    "    v2 = core_linker_dir[ii][core_linker_neigh[ii,nii]] # vector to linkage site\n",
    "    v1 = distance_vectors[nii] # vector from ii to neighbor nii        \n",
    "    \n",
    "    ax.plot([positions[ii][0], positions[ii][0]+v1[0]/2], [positions[ii][1], positions[ii][1]+v1[1]/2], 'b--')\n",
    "    ax.annotate(str(ib), [positions[ii][0]+v1[0]/2, positions[ii][1]+v1[1]/2])\n",
    "        \n",
    "plt.show()"
   ]
  },
  {
   "cell_type": "code",
   "execution_count": 21,
   "metadata": {},
   "outputs": [
    {
     "name": "stdout",
     "output_type": "stream",
     "text": [
      "number of samples: 1\n",
      "number of linkers: 54\n",
      "number of descriptors per linker: 3\n",
      "number of cores: 18\n",
      "number of descriptors per core: 3\n"
     ]
    }
   ],
   "source": [
    "# feature matrix\n",
    "X = get_feature_matrix(core_descriptors, bond_descriptors)\n",
    "\n",
    "print('number of samples: %d' % (len(bond_descriptors)))\n",
    "print('number of linkers: %d' % (len(bond_descriptors[0])))\n",
    "print('number of descriptors per linker: %d' % (len(bond_descriptors[0][0])))\n",
    "print('number of cores: %d' % (len(core_descriptors[0])))\n",
    "print('number of descriptors per core: %d' % (len(core_descriptors[0][0])))"
   ]
  },
  {
   "cell_type": "code",
   "execution_count": 22,
   "metadata": {},
   "outputs": [],
   "source": [
    "reg.intercept_ = reg.intercept_ * 54/6 # we have to adjust the intercept for the different number of linkers!"
   ]
  },
  {
   "cell_type": "code",
   "execution_count": 23,
   "metadata": {},
   "outputs": [
    {
     "data": {
      "text/plain": [
       "array([12.75394945])"
      ]
     },
     "execution_count": 23,
     "metadata": {},
     "output_type": "execute_result"
    }
   ],
   "source": [
    "# final energy\n",
    "reg.predict(X)"
   ]
  },
  {
   "cell_type": "code",
   "execution_count": 24,
   "metadata": {},
   "outputs": [
    {
     "data": {
      "text/plain": [
       "12.753949449299398"
      ]
     },
     "execution_count": 24,
     "metadata": {},
     "output_type": "execute_result"
    }
   ],
   "source": [
    "np.dot(reg.coef_, X.reshape(-1)) + reg.intercept_"
   ]
  },
  {
   "cell_type": "markdown",
   "metadata": {},
   "source": [
    "# Calculator"
   ]
  },
  {
   "cell_type": "code",
   "execution_count": 25,
   "metadata": {},
   "outputs": [],
   "source": [
    "from cgf.surrogate import MikadoRR"
   ]
  },
  {
   "cell_type": "code",
   "execution_count": 32,
   "metadata": {},
   "outputs": [],
   "source": [
    "calc = MikadoRR(r0=30.082756/np.sqrt(3), rr_coeff=np.array([-44.4342221, 1.27912546, 4.45880587, 4.45880586,\n",
    "         4.45880373, 27.369685]), rr_incpt=2315.3320266790165/6)"
   ]
  },
  {
   "cell_type": "code",
   "execution_count": 33,
   "metadata": {},
   "outputs": [],
   "source": [
    "cg_atoms.calc = calc"
   ]
  },
  {
   "cell_type": "code",
   "execution_count": 34,
   "metadata": {},
   "outputs": [
    {
     "data": {
      "text/plain": [
       "12.753976338633947"
      ]
     },
     "execution_count": 34,
     "metadata": {},
     "output_type": "execute_result"
    }
   ],
   "source": [
    "cg_atoms.get_potential_energy()"
   ]
  },
  {
   "cell_type": "code",
   "execution_count": null,
   "metadata": {},
   "outputs": [],
   "source": []
  }
 ],
 "metadata": {
  "kernelspec": {
   "display_name": "Python 3",
   "language": "python",
   "name": "python3"
  },
  "language_info": {
   "codemirror_mode": {
    "name": "ipython",
    "version": 3
   },
   "file_extension": ".py",
   "mimetype": "text/x-python",
   "name": "python",
   "nbconvert_exporter": "python",
   "pygments_lexer": "ipython3",
   "version": "3.7.11"
  }
 },
 "nbformat": 4,
 "nbformat_minor": 4
}

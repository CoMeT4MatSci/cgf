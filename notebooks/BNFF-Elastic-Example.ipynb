{
 "cells": [
  {
   "cell_type": "code",
   "execution_count": 1,
   "metadata": {},
   "outputs": [],
   "source": [
    "import sys\n",
    "sys.path.insert(0, '../')\n",
    "\n",
    "import matplotlib.pyplot as plt\n",
    "import numpy as np\n",
    "\n",
    "from ase import Atoms\n",
    "from ase.build import bulk\n",
    "from ase.optimize import BFGS\n",
    "\n",
    "from scipy.optimize import curve_fit, minimize\n",
    "\n",
    "from cgf.bnff import MikadoPotential, _energy_total, _get_phi0"
   ]
  },
  {
   "cell_type": "code",
   "execution_count": 3,
   "metadata": {},
   "outputs": [],
   "source": [
    "def func(x, a, b, c, d):\n",
    "    return a + b * x + c * x**2 + d * x**3"
   ]
  },
  {
   "cell_type": "markdown",
   "metadata": {
    "tags": []
   },
   "source": [
    "## Beam Network Force Field (BNFF)"
   ]
  },
  {
   "cell_type": "code",
   "execution_count": 5,
   "metadata": {},
   "outputs": [],
   "source": [
    "Mikado = MikadoPotential(r0=30.082756/np.sqrt(3), cosT0=-0.5, Kbond=82.003030/2, Kangle=82.312490/2) # Tp-DB-1phenyl"
   ]
  },
  {
   "cell_type": "markdown",
   "metadata": {},
   "source": [
    "## Bulk Modulus"
   ]
  },
  {
   "cell_type": "code",
   "execution_count": 8,
   "metadata": {},
   "outputs": [
    {
     "data": {
      "text/plain": [
       "1.2858075104528545e-07"
      ]
     },
     "execution_count": 8,
     "metadata": {},
     "output_type": "execute_result"
    }
   ],
   "source": [
    "atoms = bulk('Y', 'hcp', a=30.0827, b=30.0)\n",
    "atoms.positions[0][2] = 15.0 # vacuum in z-dir\n",
    "atoms.calc = Mikado\n",
    "\n",
    "cell_array0 = atoms.cell.array.copy()\n",
    "cell_array = cell_array0.copy()\n",
    "\n",
    "A0 = np.cross(cell_array0[0], cell_array0[1])[2]\n",
    "\n",
    "atoms.get_potential_energy()"
   ]
  },
  {
   "cell_type": "code",
   "execution_count": 7,
   "metadata": {},
   "outputs": [
    {
     "name": "stdout",
     "output_type": "stream",
     "text": [
      "Optimization terminated successfully.\n",
      "         Current function value: 0.000000\n",
      "         Iterations: 0\n",
      "         Function evaluations: 9\n",
      "         Gradient evaluations: 1\n",
      "\n",
      "E_{def} = 0.00 eV\n"
     ]
    }
   ],
   "source": [
    "pos0 = atoms.get_positions().flatten()\n",
    "ch0 = atoms.get_initial_charges()\n",
    "\n",
    "res_tot = minimize(_energy_total, np.concatenate((ch0, pos0)), args=(atoms,), options={'disp': True, 'maxiter': 100, 'gtol': 1e-3})\n",
    "\n",
    "print('\\nE_{def} = %3.2f eV' % (atoms.get_potential_energy()*1e-20 * 6.242e18))"
   ]
  },
  {
   "cell_type": "code",
   "execution_count": 9,
   "metadata": {},
   "outputs": [
    {
     "name": "stdout",
     "output_type": "stream",
     "text": [
      "Optimization terminated successfully.\n",
      "         Current function value: 92.769641\n",
      "         Iterations: 0\n",
      "         Function evaluations: 9\n",
      "         Gradient evaluations: 1\n",
      "Optimization terminated successfully.\n",
      "         Current function value: 59.373675\n",
      "         Iterations: 0\n",
      "         Function evaluations: 9\n",
      "         Gradient evaluations: 1\n",
      "Optimization terminated successfully.\n",
      "         Current function value: 33.398729\n",
      "         Iterations: 0\n",
      "         Function evaluations: 9\n",
      "         Gradient evaluations: 1\n",
      "Optimization terminated successfully.\n",
      "         Current function value: 14.844800\n",
      "         Iterations: 0\n",
      "         Function evaluations: 9\n",
      "         Gradient evaluations: 1\n",
      "Optimization terminated successfully.\n",
      "         Current function value: 3.711891\n",
      "         Iterations: 0\n",
      "         Function evaluations: 9\n",
      "         Gradient evaluations: 1\n",
      "Optimization terminated successfully.\n",
      "         Current function value: 0.000000\n",
      "         Iterations: 0\n",
      "         Function evaluations: 9\n",
      "         Gradient evaluations: 1\n",
      "Optimization terminated successfully.\n",
      "         Current function value: 3.709128\n",
      "         Iterations: 0\n",
      "         Function evaluations: 9\n",
      "         Gradient evaluations: 1\n",
      "Optimization terminated successfully.\n",
      "         Current function value: 14.839275\n",
      "         Iterations: 0\n",
      "         Function evaluations: 9\n",
      "         Gradient evaluations: 1\n",
      "Optimization terminated successfully.\n",
      "         Current function value: 33.390440\n",
      "         Iterations: 0\n",
      "         Function evaluations: 9\n",
      "         Gradient evaluations: 1\n"
     ]
    }
   ],
   "source": [
    "# uniform deformation\n",
    "strain = 0.01 # strain increment\n",
    "energies = []\n",
    "\n",
    "for fac in np.arange(-5,4):\n",
    "    cell_array[0] = (1.0 + fac*strain) * cell_array0[0]\n",
    "    cell_array[1] = (1.0 + fac*strain) * cell_array0[1]\n",
    "\n",
    "    atoms.set_cell(cell_array, scale_atoms=True)\n",
    "    \n",
    "    pos0 = atoms.get_positions().flatten()\n",
    "    ch0 = atoms.get_initial_charges()\n",
    "\n",
    "    res_tot = minimize(_energy_total, np.concatenate((ch0, pos0)), args=(atoms,), options={'disp': True, 'maxiter': 100, 'gtol': 1e-3})\n",
    "\n",
    "    energies.append(atoms.get_potential_energy())\n",
    "    \n",
    "strains = strain*np.arange(-5,4)\n",
    "energies = np.array(energies)"
   ]
  },
  {
   "cell_type": "code",
   "execution_count": 10,
   "metadata": {
    "tags": []
   },
   "outputs": [
    {
     "data": {
      "image/png": "[encoded data removed]",
      "text/plain": [
       "<Figure size 432x288 with 1 Axes>"
      ]
     },
     "metadata": {
      "needs_background": "light"
     },
     "output_type": "display_data"
    }
   ],
   "source": [
    "popt, pcov = curve_fit(func, strains, energies) \n",
    "perr = np.sqrt(np.diag(pcov))\n",
    "\n",
    "# get minimal strain\n",
    "l_opt = (-popt[2] + np.sqrt(popt[2]**2 - 3*popt[1]*popt[3]))/(3*popt[3])\n",
    "\n",
    "# curvature at minimum (second derivative) in N Å^2/m\n",
    "B = 2*np.sqrt(popt[2]**2 - 3*popt[1]*popt[3])  \n",
    "\n",
    "plt.scatter(strains, energies)\n",
    "plt.plot(strains, func(strains, *popt), '-r', label=r'$B_{2D} = %2.3f\\ N/m$' % (B/(4*A0)))\n",
    "plt.legend()\n",
    "plt.show()"
   ]
  },
  {
   "cell_type": "markdown",
   "metadata": {},
   "source": [
    "## Shear Modulus"
   ]
  },
  {
   "cell_type": "code",
   "execution_count": 11,
   "metadata": {},
   "outputs": [
    {
     "data": {
      "text/plain": [
       "1.2858075104528545e-07"
      ]
     },
     "execution_count": 11,
     "metadata": {},
     "output_type": "execute_result"
    }
   ],
   "source": [
    "atoms = bulk('Y', 'hcp', a=30.0827, b=30.0)\n",
    "atoms.positions[0][2] = 15.0 # vacuum in z-dir\n",
    "atoms.calc = Mikado\n",
    "\n",
    "cell_array0 = atoms.cell.array.copy()\n",
    "cell_array = cell_array0.copy()\n",
    "\n",
    "A0 = np.cross(cell_array0[0], cell_array0[1])[2]\n",
    "\n",
    "atoms.get_potential_energy()"
   ]
  },
  {
   "cell_type": "code",
   "execution_count": 12,
   "metadata": {
    "tags": []
   },
   "outputs": [
    {
     "name": "stdout",
     "output_type": "stream",
     "text": [
      "Optimization terminated successfully.\n",
      "         Current function value: 5.345143\n",
      "         Iterations: 7\n",
      "         Function evaluations: 117\n",
      "         Gradient evaluations: 13\n",
      "Optimization terminated successfully.\n",
      "         Current function value: 3.409016\n",
      "         Iterations: 5\n",
      "         Function evaluations: 90\n",
      "         Gradient evaluations: 10\n",
      "Optimization terminated successfully.\n",
      "         Current function value: 1.915728\n",
      "         Iterations: 5\n",
      "         Function evaluations: 90\n",
      "         Gradient evaluations: 10\n",
      "Optimization terminated successfully.\n",
      "         Current function value: 0.852884\n",
      "         Iterations: 5\n",
      "         Function evaluations: 90\n",
      "         Gradient evaluations: 10\n",
      "Optimization terminated successfully.\n",
      "         Current function value: 0.214181\n",
      "         Iterations: 5\n",
      "         Function evaluations: 90\n",
      "         Gradient evaluations: 10\n",
      "Optimization terminated successfully.\n",
      "         Current function value: 0.000000\n",
      "         Iterations: 5\n",
      "         Function evaluations: 90\n",
      "         Gradient evaluations: 10\n",
      "Optimization terminated successfully.\n",
      "         Current function value: 0.218016\n",
      "         Iterations: 5\n",
      "         Function evaluations: 99\n",
      "         Gradient evaluations: 11\n",
      "Optimization terminated successfully.\n",
      "         Current function value: 0.883809\n",
      "         Iterations: 1\n",
      "         Function evaluations: 27\n",
      "         Gradient evaluations: 3\n",
      "Optimization terminated successfully.\n",
      "         Current function value: 2.021485\n",
      "         Iterations: 6\n",
      "         Function evaluations: 135\n",
      "         Gradient evaluations: 15\n"
     ]
    }
   ],
   "source": [
    "strain = 0.01 # strain increment\n",
    "energies = []\n",
    "\n",
    "for fac in np.arange(-5,4):\n",
    "    cell_array[0,0] = (1.0 + fac*strain) * cell_array0[0,0]\n",
    "    cell_array[1,0] = (1.0 + fac*strain) * cell_array0[1,0]\n",
    "    cell_array[0,1] = (1.0 - fac*strain) * cell_array0[0,1]\n",
    "    cell_array[1,1] = (1.0 - fac*strain) * cell_array0[1,1]\n",
    "\n",
    "    atoms.set_cell(cell_array, scale_atoms=True)\n",
    "    \n",
    "    pos0 = atoms.get_positions().flatten()\n",
    "    ch0 = atoms.get_initial_charges()\n",
    "\n",
    "    res_tot = minimize(_energy_total, np.concatenate((ch0, pos0)), args=(atoms,), options={'disp': True, 'maxiter': 100, 'gtol': 1e-3})\n",
    "    energies.append(atoms.get_potential_energy())\n",
    "    \n",
    "strains = strain*np.arange(-5,4)\n",
    "energies = np.array(energies)"
   ]
  },
  {
   "cell_type": "code",
   "execution_count": 13,
   "metadata": {
    "tags": []
   },
   "outputs": [
    {
     "data": {
      "image/png": "[encoded data removed]",
      "text/plain": [
       "<Figure size 432x288 with 1 Axes>"
      ]
     },
     "metadata": {
      "needs_background": "light"
     },
     "output_type": "display_data"
    }
   ],
   "source": [
    "popt, pcov = curve_fit(func, strains, energies) \n",
    "perr = np.sqrt(np.diag(pcov))\n",
    "\n",
    "# get minimal strain\n",
    "l_opt = (-popt[2] + np.sqrt(popt[2]**2 - 3*popt[1]*popt[3]))/(3*popt[3])\n",
    "\n",
    "# curvature at minimum (second derivative) in N Å^2/m\n",
    "mu = 2*np.sqrt(popt[2]**2 - 3*popt[1]*popt[3])  \n",
    "\n",
    "plt.scatter(strains, energies)\n",
    "plt.plot(strains, func(strains, *popt), '-r', label=r'$\\mu_{2D} = %2.3f\\ N/m$' % (mu/(4*A0)))\n",
    "plt.legend()\n",
    "plt.show()"
   ]
  },
  {
   "cell_type": "code",
   "execution_count": null,
   "metadata": {},
   "outputs": [],
   "source": []
  }
 ],
 "metadata": {
  "kernelspec": {
   "display_name": "Python 3",
   "language": "python",
   "name": "python3"
  },
  "language_info": {
   "codemirror_mode": {
    "name": "ipython",
    "version": 3
   },
   "file_extension": ".py",
   "mimetype": "text/x-python",
   "name": "python",
   "nbconvert_exporter": "python",
   "pygments_lexer": "ipython3",
   "version": "3.7.11"
  }
 },
 "nbformat": 4,
 "nbformat_minor": 4
}

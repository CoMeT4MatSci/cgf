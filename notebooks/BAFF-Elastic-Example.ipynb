{
 "cells": [
  {
   "cell_type": "code",
   "execution_count": 1,
   "metadata": {},
   "outputs": [],
   "source": [
    "import sys\n",
    "sys.path.insert(0, '../')\n",
    "\n",
    "import matplotlib.pyplot as plt\n",
    "import numpy as np\n",
    "\n",
    "from ase import Atoms\n",
    "from ase.build import bulk\n",
    "from ase.optimize import BFGS\n",
    "\n",
    "from scipy.optimize import curve_fit, minimize\n",
    "\n",
    "from cgf.baff import BAFFPotential"
   ]
  },
  {
   "cell_type": "code",
   "execution_count": 3,
   "metadata": {},
   "outputs": [],
   "source": [
    "def func(x, a, b, c, d):\n",
    "    return a + b * x + c * x**2 + d * x**3"
   ]
  },
  {
   "cell_type": "markdown",
   "metadata": {
    "tags": []
   },
   "source": [
    "## Bond-stretching and Angle-bending Force Field (BAFF)"
   ]
  },
  {
   "cell_type": "code",
   "execution_count": 32,
   "metadata": {
    "tags": []
   },
   "outputs": [],
   "source": [
    "BAFF = BAFFPotential(r0=17.36825494295075, cosT0=-0.5, Kbond=82.0/2, Kangle=82.51) # diboron 1\n",
    "# BAFF = BAFFPotential(r0=37.535282/np.sqrt(3), cosT0=-0.5, Kbond=59.11/2, Kangle=45.86) # diboron 2"
   ]
  },
  {
   "cell_type": "markdown",
   "metadata": {},
   "source": [
    "## Bulk Modulus"
   ]
  },
  {
   "cell_type": "code",
   "execution_count": 43,
   "metadata": {
    "tags": []
   },
   "outputs": [
    {
     "data": {
      "text/plain": [
       "4.662011348640541e-27"
      ]
     },
     "execution_count": 43,
     "metadata": {},
     "output_type": "execute_result"
    }
   ],
   "source": [
    "atoms = bulk('Y', 'hcp', a=30.0827, b=30.0)\n",
    "atoms.positions[0][2] = 15.0 # vacuum in z-dir\n",
    "atoms.calc = BAFF\n",
    "\n",
    "cell_array0 = atoms.cell.array.copy()\n",
    "cell_array = cell_array0.copy()\n",
    "\n",
    "A0 = np.cross(cell_array0[0], cell_array0[1])[2] # area of optimized cell\n",
    "\n",
    "atoms.get_potential_energy()"
   ]
  },
  {
   "cell_type": "code",
   "execution_count": 44,
   "metadata": {
    "tags": []
   },
   "outputs": [
    {
     "name": "stdout",
     "output_type": "stream",
     "text": [
      "      Step     Time          Energy         fmax\n",
      "BFGS:    0 23:27:10       92.759306        0.0000\n",
      "      Step     Time          Energy         fmax\n",
      "BFGS:    0 23:27:10       59.365956        0.0000\n",
      "      Step     Time          Energy         fmax\n",
      "BFGS:    0 23:27:10       33.393350        0.0000\n",
      "      Step     Time          Energy         fmax\n",
      "BFGS:    0 23:27:10       14.841489        0.0000\n",
      "      Step     Time          Energy         fmax\n",
      "BFGS:    0 23:27:10        3.710372        0.0000\n",
      "      Step     Time          Energy         fmax\n",
      "BFGS:    0 23:27:10        0.000000        0.0000\n",
      "      Step     Time          Energy         fmax\n",
      "BFGS:    0 23:27:10        3.710372        0.0000\n",
      "      Step     Time          Energy         fmax\n",
      "BFGS:    0 23:27:10       14.841489        0.0000\n",
      "      Step     Time          Energy         fmax\n",
      "BFGS:    0 23:27:10       33.393350        0.0000\n"
     ]
    }
   ],
   "source": [
    "# uniform deformation\n",
    "strain = 0.01 # strain increments\n",
    "energies = []\n",
    "\n",
    "for fac in np.arange(-5,4):\n",
    "    cell_array[0] = (1.0 + fac*strain) * cell_array0[0]\n",
    "    cell_array[1] = (1.0 + fac*strain) * cell_array0[1]\n",
    "\n",
    "    atoms.set_cell(cell_array, scale_atoms=True)\n",
    "    \n",
    "    dyn = BFGS(atoms)\n",
    "    dyn.run(fmax=1e-3)\n",
    "    energies.append(atoms.get_potential_energy())\n",
    "    \n",
    "strains = strain*np.arange(-5,4)\n",
    "energies = np.array(energies)"
   ]
  },
  {
   "cell_type": "code",
   "execution_count": 45,
   "metadata": {
    "tags": []
   },
   "outputs": [
    {
     "data": {
      "image/png": "[encoded data removed]",
      "text/plain": [
       "<Figure size 432x288 with 1 Axes>"
      ]
     },
     "metadata": {
      "needs_background": "light"
     },
     "output_type": "display_data"
    }
   ],
   "source": [
    "popt, pcov = curve_fit(func, strains, energies) \n",
    "perr = np.sqrt(np.diag(pcov))\n",
    "\n",
    "# get minimal strain\n",
    "l_opt = (-popt[2] + np.sqrt(popt[2]**2 - 3*popt[1]*popt[3]))/(3*popt[3])\n",
    "\n",
    "# curvature at minimum (second derivative) in N Å^2/m\n",
    "B = 2*np.sqrt(popt[2]**2 - 3*popt[1]*popt[3])  \n",
    "\n",
    "plt.scatter(strains, energies)\n",
    "plt.plot(strains, func(strains, *popt), '-r', label=r'$B_{2D} = %2.3f\\ N/m$' % (B/(4*A0)))\n",
    "plt.legend()\n",
    "plt.show()"
   ]
  },
  {
   "cell_type": "markdown",
   "metadata": {},
   "source": [
    "## Shear Modulus"
   ]
  },
  {
   "cell_type": "code",
   "execution_count": 46,
   "metadata": {
    "tags": []
   },
   "outputs": [
    {
     "data": {
      "text/plain": [
       "4.662011348640541e-27"
      ]
     },
     "execution_count": 46,
     "metadata": {},
     "output_type": "execute_result"
    }
   ],
   "source": [
    "atoms = bulk('Y', 'hcp', a=30.0827, b=30.0)\n",
    "atoms.positions[0][2] = 15.0 # vacuum in z-dir\n",
    "atoms.calc = BAFF\n",
    "\n",
    "cell_array0 = atoms.cell.array.copy()\n",
    "cell_array = cell_array0.copy()\n",
    "\n",
    "A0 = np.cross(cell_array0[0], cell_array0[1])[2] # area of optimized cell\n",
    "\n",
    "atoms.get_potential_energy()"
   ]
  },
  {
   "cell_type": "code",
   "execution_count": 47,
   "metadata": {
    "tags": []
   },
   "outputs": [
    {
     "name": "stdout",
     "output_type": "stream",
     "text": [
      "      Step     Time          Energy         fmax\n",
      "BFGS:    0 23:27:44       46.711846      209.2987\n",
      "BFGS:    1 23:27:44       15.390552      103.3423\n",
      "BFGS:    2 23:27:44        5.577837        3.2627\n",
      "BFGS:    3 23:27:44        5.568240        0.0469\n",
      "BFGS:    4 23:27:44        5.568238        0.0000\n",
      "      Step     Time          Energy         fmax\n",
      "BFGS:    0 23:27:44        4.904888       38.8433\n",
      "BFGS:    1 23:27:44        8.034315       69.5840\n",
      "BFGS:    2 23:27:44        3.529539        0.3814\n",
      "BFGS:    3 23:27:44        3.529406        0.0038\n",
      "BFGS:    4 23:27:44        3.529406        0.0000\n",
      "      Step     Time          Energy         fmax\n",
      "BFGS:    0 23:27:44        3.409395       39.3988\n",
      "BFGS:    1 23:27:44        6.240682       67.1574\n",
      "BFGS:    2 23:27:44        1.969730        0.3870\n",
      "BFGS:    3 23:27:44        1.969590        0.0039\n",
      "BFGS:    4 23:27:44        1.969590        0.0000\n",
      "      Step     Time          Energy         fmax\n",
      "BFGS:    0 23:27:44        2.375070       39.9290\n",
      "BFGS:    1 23:27:44        4.914248       64.7669\n",
      "BFGS:    2 23:27:44        0.870243        0.3917\n",
      "BFGS:    3 23:27:44        0.870097        0.0039\n",
      "BFGS:    4 23:27:44        0.870097        0.0000\n",
      "      Step     Time          Energy         fmax\n",
      "BFGS:    0 23:27:44        1.787400       40.4324\n",
      "BFGS:    1 23:27:44        4.041263       62.4183\n",
      "BFGS:    2 23:27:44        0.216812        0.3953\n",
      "BFGS:    3 23:27:44        0.216661        0.0039\n",
      "BFGS:    4 23:27:44        0.216661        0.0000\n",
      "      Step     Time          Energy         fmax\n",
      "BFGS:    0 23:27:44        1.636819       40.9069\n",
      "BFGS:    1 23:27:44        3.612966       60.1179\n",
      "BFGS:    2 23:27:44        0.000156        0.3977\n",
      "BFGS:    3 23:27:44        0.000000        0.0039\n",
      "BFGS:    4 23:27:44        0.000000        0.0000\n",
      "      Step     Time          Energy         fmax\n",
      "BFGS:    0 23:27:44        1.919312       41.3510\n",
      "BFGS:    1 23:27:44        3.626181       57.8726\n",
      "BFGS:    2 23:27:44        0.216587        0.3988\n",
      "BFGS:    3 23:27:44        0.216427        0.0039\n",
      "BFGS:    4 23:27:44        0.216427        0.0001\n",
      "      Step     Time          Energy         fmax\n",
      "BFGS:    0 23:27:44        2.637066       41.7629\n",
      "BFGS:    1 23:27:44        4.083966       55.6892\n",
      "BFGS:    2 23:27:44        0.868662        0.3986\n",
      "BFGS:    3 23:27:44        0.868499        0.0039\n",
      "BFGS:    4 23:27:44        0.868499        0.0026\n",
      "BFGS:    5 23:27:44        0.868499        0.0086\n",
      "BFGS:    6 23:27:44        0.868499        0.0001\n",
      "      Step     Time          Energy         fmax\n",
      "BFGS:    0 23:27:44        3.799178       42.1411\n",
      "BFGS:    1 23:27:44        4.996288       53.5751\n",
      "BFGS:    2 23:27:44        1.965876        0.3970\n",
      "BFGS:    3 23:27:44        1.965712        0.0038\n",
      "BFGS:    4 23:27:44        1.965711        0.0018\n",
      "BFGS:    5 23:27:44        1.965712        0.0083\n",
      "BFGS:    6 23:27:44        1.965711        0.0000\n"
     ]
    }
   ],
   "source": [
    "strain = 0.01 # strain increments\n",
    "energies = []\n",
    "\n",
    "for fac in np.arange(-5,4):\n",
    "    cell_array[0,0] = (1.0 + fac*strain) * cell_array0[0,0]\n",
    "    cell_array[1,0] = (1.0 + fac*strain) * cell_array0[1,0]\n",
    "    cell_array[0,1] = (1.0 - fac*strain) * cell_array0[0,1]\n",
    "    cell_array[1,1] = (1.0 - fac*strain) * cell_array0[1,1]\n",
    "\n",
    "    atoms.set_cell(cell_array, scale_atoms=True)\n",
    "    \n",
    "    dyn = BFGS(atoms)\n",
    "    dyn.run(fmax=1e-3)\n",
    "    energies.append(atoms.get_potential_energy())\n",
    "    \n",
    "strains = strain*np.arange(-5,4)\n",
    "energies = np.array(energies)"
   ]
  },
  {
   "cell_type": "code",
   "execution_count": 48,
   "metadata": {
    "tags": []
   },
   "outputs": [
    {
     "data": {
      "image/png": "[encoded data removed]",
      "text/plain": [
       "<Figure size 432x288 with 1 Axes>"
      ]
     },
     "metadata": {
      "needs_background": "light"
     },
     "output_type": "display_data"
    }
   ],
   "source": [
    "popt, pcov = curve_fit(func, strains, energies) \n",
    "perr = np.sqrt(np.diag(pcov))\n",
    "\n",
    "# get minimal strain\n",
    "l_opt = (-popt[2] + np.sqrt(popt[2]**2 - 3*popt[1]*popt[3]))/(3*popt[3])\n",
    "\n",
    "# curvature at minimum (second derivative) in N Å^2/m\n",
    "mu = 2*np.sqrt(popt[2]**2 - 3*popt[1]*popt[3])  \n",
    "\n",
    "plt.scatter(strains, energies)\n",
    "plt.plot(strains, func(strains, *popt), '-r', label=r'$\\mu_{2D} = %2.3f\\ N/m$' % (mu/(4*A0)))\n",
    "plt.legend()\n",
    "plt.show()"
   ]
  },
  {
   "cell_type": "code",
   "execution_count": null,
   "metadata": {},
   "outputs": [],
   "source": []
  }
 ],
 "metadata": {
  "kernelspec": {
   "display_name": "Python 3",
   "language": "python",
   "name": "python3"
  },
  "language_info": {
   "codemirror_mode": {
    "name": "ipython",
    "version": 3
   },
   "file_extension": ".py",
   "mimetype": "text/x-python",
   "name": "python",
   "nbconvert_exporter": "python",
   "pygments_lexer": "ipython3",
   "version": "3.7.11"
  }
 },
 "nbformat": 4,
 "nbformat_minor": 4
}

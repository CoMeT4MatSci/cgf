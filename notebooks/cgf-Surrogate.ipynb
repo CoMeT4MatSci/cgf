{
 "cells": [
  {
   "cell_type": "code",
   "execution_count": 1,
   "metadata": {},
   "outputs": [],
   "source": [
    "import sys\n",
    "sys.path.insert(0, '../')\n",
    "\n",
    "import os\n",
    "\n",
    "import matplotlib.pyplot as plt\n",
    "import numpy as np\n",
    "\n",
    "import networkx as nx\n",
    "\n",
    "from ase import Atoms\n",
    "from ase.io import read, write\n",
    "from ase.optimize import BFGS\n",
    "from ase.calculators.dftb import Dftb\n",
    "from ase.neighborlist import NeighborList\n",
    "\n",
    "from scipy.optimize import curve_fit, minimize\n",
    "\n",
    "from cgf.cycles import find_cycles, cycle_graph\n",
    "from cgf.motifs import find_unique_motifs\n",
    "from cgf.utils import remove_hatoms\n",
    "from cgf.baff import BAFFPotential\n",
    "from cgf.bnff import MikadoPotential, _energy_total, _get_bonds, _get_phi0"
   ]
  },
  {
   "cell_type": "code",
   "execution_count": 3,
   "metadata": {},
   "outputs": [],
   "source": [
    "def func(x, a, b, c, d):\n",
    "    return a + b * x + c * x**2 + d * x**3"
   ]
  },
  {
   "cell_type": "code",
   "execution_count": 3,
   "metadata": {
    "tags": []
   },
   "outputs": [
    {
     "name": "stdout",
     "output_type": "stream",
     "text": [
      "12\n",
      "2\n"
     ]
    }
   ],
   "source": [
    "# Tp Core Motif\n",
    "motif = nx.Graph()\n",
    "motif.add_edge(\"A\", \"B\")\n",
    "motif.add_edge(\"C\", \"B\")\n",
    "motif.add_edge(\"D\", \"B\")\n",
    "\n",
    "motif.nodes['A']['cl'] = 6\n",
    "motif.nodes['B']['cl'] = 6\n",
    "motif.nodes['C']['cl'] = 6\n",
    "motif.nodes['D']['cl'] = 6"
   ]
  },
  {
   "cell_type": "markdown",
   "metadata": {
    "tags": []
   },
   "source": [
    "# Descriptors"
   ]
  },
  {
   "cell_type": "code",
   "execution_count": 7,
   "metadata": {},
   "outputs": [],
   "source": [
    "def _find_linker_neighbor(cg_atoms, r0):\n",
    "    \n",
    "    natoms = len(cg_atoms)\n",
    "    cell = cg_atoms.cell\n",
    "    positions = cg_atoms.positions\n",
    "\n",
    "    nl = NeighborList( [1.2*r0/2] * natoms, self_interaction=False, bothways=True)\n",
    "    nl.update(cg_atoms)\n",
    "\n",
    "    core_linker_dir = cg_atoms.get_array('linker_sites')\n",
    "    phi0 = 2*np.pi/core_linker_dir.shape[1]\n",
    "\n",
    "    core_linker_neigh = []\n",
    "    # iterate over atoms\n",
    "    for ii in range(natoms):\n",
    "        neighbors, offsets = nl.get_neighbors(ii)\n",
    "        cells = np.dot(offsets, cell)\n",
    "        distance_vectors = positions[neighbors] + cells - positions[ii]\n",
    "\n",
    "        linker_neigh = []\n",
    "        # iterate over neighbors of ii\n",
    "        for jj in range(len(neighbors)):\n",
    "            v1 = distance_vectors[jj] # vector from ii to jj\n",
    "            r1 = np.linalg.norm(v1)\n",
    "\n",
    "#             print(v1)\n",
    "            for li, v2 in enumerate(core_linker_dir[ii]):\n",
    "                dot = np.dot(v1,v2)\n",
    "                det = np.cross(v1,v2)[2]\n",
    "                angle = np.arctan2(det, dot)\n",
    "\n",
    "                if np.abs(angle) < phi0/2:\n",
    "#                     print(ii, jj, li, angle)\n",
    "                    linker_neigh.append(li)\n",
    "                    break\n",
    "        core_linker_neigh.append(linker_neigh)\n",
    "\n",
    "    cg_atoms.new_array('linker_neighbors', np.array(core_linker_neigh)) # add linker site id for each neighbor "
   ]
  },
  {
   "cell_type": "code",
   "execution_count": 109,
   "metadata": {},
   "outputs": [],
   "source": [
    "def _get_core_descriptors(cg_atoms, r0):\n",
    "    \n",
    "    natoms = len(cg_atoms)\n",
    "    cell = cg_atoms.cell\n",
    "    positions = cg_atoms.positions\n",
    "\n",
    "    nl = NeighborList( [1.2*r0/2] * natoms, self_interaction=False, bothways=True)\n",
    "    nl.update(cg_atoms)\n",
    "\n",
    "    core_linker_dir = cg_atoms.get_array('linker_sites')\n",
    "    phi0 = 2*np.pi/core_linker_dir.shape[1]\n",
    "\n",
    "    core_desc = []    \n",
    "    # iterate over atoms\n",
    "    for ii in range(natoms):\n",
    "        neighbors, offsets = nl.get_neighbors(ii)\n",
    "        cells = np.dot(offsets, cell)\n",
    "        distance_vectors = positions[neighbors] + cells - positions[ii]\n",
    "\n",
    "        angles = []\n",
    "        for li in range(core_linker_dir.shape[1]):\n",
    "            v1 = core_linker_dir[ii, li]\n",
    "            \n",
    "            for lj in range(li+1,core_linker_dir.shape[1]):\n",
    "\n",
    "                v2 = core_linker_dir[ii, lj]\n",
    "\n",
    "                dot = np.dot(v1,v2)\n",
    "                det = np.cross(v1,v2)[2]\n",
    "                angle = np.arctan2(det, dot)\n",
    "\n",
    "#                 print(ii, li, lj, angle)\n",
    "                angles.append(np.abs(angle))\n",
    "        core_desc.append(angles)\n",
    "    return core_desc"
   ]
  },
  {
   "cell_type": "code",
   "execution_count": 8,
   "metadata": {},
   "outputs": [],
   "source": [
    "def _get_bond_descriptors(cg_atoms, r0, bonds):\n",
    "    natoms = len(cg_atoms)\n",
    "    cell = cg_atoms.cell\n",
    "    positions = cg_atoms.positions\n",
    "    core_linker_dir = cg_atoms.get_array('linker_sites')\n",
    "    core_linker_neigh = cg_atoms.get_array('linker_neighbors')\n",
    "\n",
    "    nl = NeighborList( [1.2*r0/2] * natoms, self_interaction=False, bothways=True)\n",
    "    nl.update(cg_atoms)\n",
    "\n",
    "    bond_desc = []\n",
    "    for b in bonds:\n",
    "        ii, nii, jj, njj = b[0], b[1], b[2], b[3]\n",
    "\n",
    "        # get angle for site ii\n",
    "        neighbors, offsets = nl.get_neighbors(ii)\n",
    "        cells = np.dot(offsets, cell)\n",
    "        distance_vectors = positions[neighbors] + cells - positions[ii]\n",
    "\n",
    "        v2 = core_linker_dir[ii][core_linker_neigh[ii,nii]] # vector to linkage site\n",
    "        v1 = distance_vectors[nii] # vector from ii to neighbor nii\n",
    "\n",
    "        r1 = np.linalg.norm(v1)    \n",
    "        r2 = np.linalg.norm(v2)\n",
    "\n",
    "        dot = np.dot(v1,v2)\n",
    "        det = np.cross(v1,v2)[2]\n",
    "        phi_i = np.arctan2(det, dot)\n",
    "\n",
    "        # get angle for site jj\n",
    "        neighbors, offsets = nl.get_neighbors(jj)\n",
    "        cells = np.dot(offsets, cell)\n",
    "        distance_vectors = positions[neighbors] + cells - positions[jj]\n",
    "\n",
    "        v2 = core_linker_dir[jj][core_linker_neigh[jj,njj]] # vector to linkage site\n",
    "        v1 = distance_vectors[njj] # vector from jj to neighbor njj\n",
    "\n",
    "        r1 = np.linalg.norm(v1)    \n",
    "        r2 = np.linalg.norm(v2)\n",
    "\n",
    "        dot = np.dot(v1,v2)\n",
    "        det = np.cross(v1,v2)[2]\n",
    "        phi_j = np.arctan2(det, dot)\n",
    "\n",
    "        bond_desc.append([r1, phi_i, phi_j])\n",
    "\n",
    "    return bond_desc"
   ]
  },
  {
   "cell_type": "markdown",
   "metadata": {},
   "source": [
    "# Training with deformed unitcell"
   ]
  },
  {
   "cell_type": "code",
   "execution_count": 330,
   "metadata": {},
   "outputs": [],
   "source": [
    "Zdict = {1:5, 2:8, 3:6, 4:1}\n",
    "\n",
    "structures = read('../COF-MD/diboron_1-UFF/cof-elastic.atom', format='lammps-dump-text', index=':')\n",
    "\n",
    "for s0 in structures:\n",
    "    s0.set_atomic_numbers([Zdict[Z] for Z in s0.get_atomic_numbers()])\n",
    "    remove_hatoms(s0)"
   ]
  },
  {
   "cell_type": "code",
   "execution_count": 331,
   "metadata": {},
   "outputs": [
    {
     "data": {
      "text/plain": [
       "Atoms(symbols='C54B6O12', pbc=True, cell=[[30.082699999999996, 0.0, 0.0], [-15.04135, 26.052382, 0.0], [0.0, 0.0, 30.0]])"
      ]
     },
     "execution_count": 331,
     "metadata": {},
     "output_type": "execute_result"
    }
   ],
   "source": [
    "structures[0]"
   ]
  },
  {
   "cell_type": "code",
   "execution_count": 332,
   "metadata": {},
   "outputs": [
    {
     "name": "stdout",
     "output_type": "stream",
     "text": [
      "15\n",
      "12\n",
      "2\n"
     ]
    }
   ],
   "source": [
    "cy = find_cycles(structures[0])\n",
    "\n",
    "G_cy = cycle_graph(cy, structures[0].positions)\n",
    "\n",
    "# annotate cycles with cycle length\n",
    "for n in G_cy.nodes:\n",
    "    G_cy.nodes[n]['cl'] = len(G_cy.nodes[n]['cycle'])\n",
    "\n",
    "mfs = find_unique_motifs(motif, G_cy)\n",
    "print(len(mfs))"
   ]
  },
  {
   "cell_type": "code",
   "execution_count": 333,
   "metadata": {},
   "outputs": [],
   "source": [
    "r0 = 30.082756/np.sqrt(3)\n",
    "\n",
    "core_descriptors = []\n",
    "bond_descriptors = []\n",
    "for s0 in structures:\n",
    "    G_cy = cycle_graph(cy, s0.positions)\n",
    "    \n",
    "    r_c = np.array([G_cy.nodes[m['B']]['pos'].mean(axis=0) for m in mfs]) # compute core centers\n",
    "    core_linker_dir = [[G_cy.nodes[m[ls]]['pos'].mean(axis=0)-G_cy.nodes[m['B']]['pos'].mean(axis=0) for ls in ['A', 'C', 'D']] for m in mfs]\n",
    "    \n",
    "    cg_atoms = Atoms(['Y'] * len(r_c), positions=r_c, cell=s0.cell, pbc=True) # create coarse-grained representation based on core centers\n",
    "    cg_atoms.new_array('linker_sites', np.array(core_linker_dir)) # add positions of linker sites relative to core center\n",
    "    \n",
    "    _find_linker_neighbor(cg_atoms, r0)\n",
    "\n",
    "    bonds = _get_bonds(cg_atoms, r0)\n",
    "    bond_desc = _get_bond_descriptors(cg_atoms, r0, bonds)\n",
    "    bond_descriptors.append(bond_desc)\n",
    "    \n",
    "    core_desc = _get_core_descriptors(cg_atoms, r0)\n",
    "    core_descriptors.append(core_desc)    "
   ]
  },
  {
   "cell_type": "code",
   "execution_count": 110,
   "metadata": {},
   "outputs": [
    {
     "data": {
      "text/plain": [
       "[[2.089395645695091, 2.096892817538548, 2.0968968439459474],\n",
       " [2.089399732866016, 2.096892787156785, 2.0968927871567855]]"
      ]
     },
     "execution_count": 110,
     "metadata": {},
     "output_type": "execute_result"
    }
   ],
   "source": [
    "_get_core_descriptors(cg_atoms, r0)"
   ]
  },
  {
   "cell_type": "code",
   "execution_count": 100,
   "metadata": {},
   "outputs": [
    {
     "data": {
      "text/plain": [
       "array([3.68138565, 4.71238927])"
      ]
     },
     "execution_count": 100,
     "metadata": {},
     "output_type": "execute_result"
    }
   ],
   "source": [
    "_get_phi0(cg_atoms, r0)"
   ]
  },
  {
   "cell_type": "code",
   "execution_count": 98,
   "metadata": {},
   "outputs": [
    {
     "data": {
      "image/png": "[encoded data removed]",
      "text/plain": [
       "<Figure size 720x720 with 1 Axes>"
      ]
     },
     "metadata": {
      "needs_background": "light"
     },
     "output_type": "display_data"
    }
   ],
   "source": [
    "natoms = len(cg_atoms)\n",
    "cell = cg_atoms.cell\n",
    "positions = cg_atoms.positions\n",
    "core_linker_dir = cg_atoms.get_array('linker_sites')\n",
    "core_linker_neigh = cg_atoms.get_array('linker_neighbors')\n",
    "\n",
    "nl = NeighborList( [1.2*r0/2] * natoms, self_interaction=False, bothways=True)\n",
    "nl.update(cg_atoms)\n",
    "\n",
    "fig = plt.figure(figsize=(10,10)) \n",
    "ax = fig.add_subplot(111, aspect='equal')\n",
    "\n",
    "ax.scatter(positions[:,0],positions[:,1], color='coral', marker='o', s=75, zorder=10)\n",
    "for i in range(core_linker_dir.shape[0]):\n",
    "    for li in range(core_linker_dir.shape[1]):\n",
    "        ax.arrow(positions[i,0],positions[i,1], core_linker_dir[i,li,0], core_linker_dir[i,li,1], color='coral', head_width=0.9, head_length=0.5, zorder=10)\n",
    "\n",
    "for ib,b in enumerate(bonds):\n",
    "    ii, nii, jj, njj = b[0], b[1], b[2], b[3]\n",
    "\n",
    "    # get angle for site ii\n",
    "    neighbors, offsets = nl.get_neighbors(ii)\n",
    "    cells = np.dot(offsets, cell)\n",
    "    distance_vectors = positions[neighbors] + cells - positions[ii]\n",
    "\n",
    "    v2 = core_linker_dir[ii][core_linker_neigh[ii,nii]] # vector to linkage site\n",
    "    v1 = distance_vectors[nii] # vector from ii to neighbor nii        \n",
    "    \n",
    "    ax.plot([positions[ii][0], positions[ii][0]+v1[0]/2], [positions[ii][1], positions[ii][1]+v1[1]/2], 'b--')\n",
    "    ax.annotate(str(ib), [positions[ii][0]+v1[0]/2, positions[ii][1]+v1[1]/2])\n",
    "        \n",
    "plt.show()"
   ]
  },
  {
   "cell_type": "code",
   "execution_count": 95,
   "metadata": {},
   "outputs": [
    {
     "data": {
      "text/plain": [
       "[[0, 0, 1, 2],\n",
       " [0, 1, 1, 0],\n",
       " [0, 2, 1, 1],\n",
       " [1, 0, 0, 1],\n",
       " [1, 1, 0, 2],\n",
       " [1, 2, 0, 0]]"
      ]
     },
     "execution_count": 95,
     "metadata": {},
     "output_type": "execute_result"
    }
   ],
   "source": [
    "bonds"
   ]
  },
  {
   "cell_type": "code",
   "execution_count": 94,
   "metadata": {},
   "outputs": [
    {
     "data": {
      "text/plain": [
       "[[17.39399458742462, -0.01369449267848281, -0.013696536263945644],\n",
       " [17.425931758637155, 1.727789481688374e-06, -2.8541421830437495e-07],\n",
       " [17.39398605455219, 0.013694786599395038, 0.013696830184857426],\n",
       " [17.42593175863716, -2.8541421830437495e-07, 1.727789481688374e-06],\n",
       " [17.39398605455219, 0.013696830184857426, 0.013694786599395038],\n",
       " [17.39399458742462, -0.013696536263945644, -0.01369449267848281]]"
      ]
     },
     "execution_count": 94,
     "metadata": {},
     "output_type": "execute_result"
    }
   ],
   "source": [
    "bond_descriptors[16]"
   ]
  },
  {
   "cell_type": "code",
   "execution_count": 115,
   "metadata": {},
   "outputs": [
    {
     "data": {
      "text/plain": [
       "17"
      ]
     },
     "execution_count": 115,
     "metadata": {},
     "output_type": "execute_result"
    }
   ],
   "source": [
    "len(bond_descriptors)"
   ]
  },
  {
   "cell_type": "code",
   "execution_count": 116,
   "metadata": {},
   "outputs": [
    {
     "data": {
      "text/plain": [
       "17"
      ]
     },
     "execution_count": 116,
     "metadata": {},
     "output_type": "execute_result"
    }
   ],
   "source": [
    "len(core_descriptors)"
   ]
  },
  {
   "cell_type": "code",
   "execution_count": 37,
   "metadata": {},
   "outputs": [
    {
     "data": {
      "image/png": "[encoded data removed]",
      "text/plain": [
       "<Figure size 432x288 with 1 Axes>"
      ]
     },
     "metadata": {
      "needs_background": "light"
     },
     "output_type": "display_data"
    }
   ],
   "source": [
    "plt.hist(np.array(sum(bond_descriptors,[]))[:,1], bins=30)\n",
    "plt.show()"
   ]
  },
  {
   "cell_type": "code",
   "execution_count": 334,
   "metadata": {},
   "outputs": [
    {
     "data": {
      "text/plain": [
       "array([[   30.0827    ,    26.052382  ,    30.        , 23511.77975974,\n",
       "            0.        ,   348.26074798],\n",
       "       [   30.14289548,    26.10451282,    30.        , 23605.96804353,\n",
       "            0.        ,   348.07084767],\n",
       "       [   30.17303838,    26.13061733,    30.        , 23653.20358559,\n",
       "            0.        ,   348.12002806],\n",
       "       [   30.20321142,    26.15674795,    30.        , 23700.53364596,\n",
       "            0.        ,   348.25641935],\n",
       "       [   30.23341463,    26.18290469,    30.        , 23747.95841379,\n",
       "            0.        ,   348.484382  ],\n",
       "       [   30.26364804,    26.2090876 ,    30.        , 23795.47807857,\n",
       "            0.        ,   348.80518871],\n",
       "       [   30.29391169,    26.23529669,    30.        , 23843.09283021,\n",
       "            0.        ,   349.21888113],\n",
       "       [   30.3242056 ,    26.26153198,    30.        , 23890.80285896,\n",
       "            0.        ,   349.72657928],\n",
       "       [   30.35452981,    26.28779352,    30.        , 23938.60835548,\n",
       "            0.        ,   350.32617169],\n",
       "       [   30.38488434,    26.31408131,    30.        , 23986.5095108 ,\n",
       "            0.        ,   351.01879178],\n",
       "       [   30.41526922,    26.34039539,    30.        , 24034.50651633,\n",
       "            0.        ,   351.80606327],\n",
       "       [   30.44568449,    26.36673579,    30.        , 24082.59956387,\n",
       "            0.        ,   352.6861401 ],\n",
       "       [   30.47613018,    26.39310252,    30.        , 24130.7888456 ,\n",
       "            0.        ,   353.6581555 ]])"
      ]
     },
     "execution_count": 334,
     "metadata": {},
     "output_type": "execute_result"
    }
   ],
   "source": [
    "data = np.loadtxt('../COF-MD/diboron_1-UFF/stress-strain.dat')\n",
    "data = np.delete(data, 1, 0)\n",
    "data"
   ]
  },
  {
   "cell_type": "code",
   "execution_count": 65,
   "metadata": {},
   "outputs": [
    {
     "data": {
      "image/png": "[encoded data removed]",
      "text/plain": [
       "<Figure size 432x288 with 1 Axes>"
      ]
     },
     "metadata": {
      "needs_background": "light"
     },
     "output_type": "display_data"
    }
   ],
   "source": [
    "plt.scatter(np.array(sum(bond_descriptors,[]))[0::6,0], data[:,5]-data[:,5].min())\n",
    "plt.plot(x,y,'r-')\n",
    "plt.show()"
   ]
  },
  {
   "cell_type": "code",
   "execution_count": 335,
   "metadata": {},
   "outputs": [],
   "source": [
    "# bonds\n",
    "lenghts = np.array(bond_descriptors)[:,:,0]\n",
    "psi0 = np.array(bond_descriptors)[:,:,1]\n",
    "psi1 = np.array(bond_descriptors)[:,:,2]\n",
    "\n",
    "# cores\n",
    "dphi0 = np.array(core_descriptors)[:,:,0] - 2*np.pi/3\n",
    "dphi1 = np.array(core_descriptors)[:,:,1] - 2*np.pi/3\n",
    "dphi2 = np.array(core_descriptors)[:,:,2] - 2*np.pi/3\n",
    "\n",
    "# feature matrix\n",
    "X = np.array([lenghts.sum(axis=1), (lenghts**2).sum(axis=1), (psi0**2).sum(axis=1) , (psi1**2).sum(axis=1), (psi0*psi1).sum(axis=1), \n",
    "              (dphi0**2).sum(axis=1) + (dphi1**2).sum(axis=1) + (dphi2**2).sum(axis=1)]).T\n",
    "\n",
    "# target values\n",
    "y = data[:,5]-data[:,5].min()"
   ]
  },
  {
   "cell_type": "code",
   "execution_count": 329,
   "metadata": {},
   "outputs": [],
   "source": [
    "X_shear = X.copy()\n",
    "y_shear = y.copy()"
   ]
  },
  {
   "cell_type": "code",
   "execution_count": 336,
   "metadata": {},
   "outputs": [],
   "source": [
    "y = np.concatenate((y,y_shear), axis=0)\n",
    "X = np.concatenate((X,X_shear), axis=0)"
   ]
  },
  {
   "cell_type": "code",
   "execution_count": 170,
   "metadata": {},
   "outputs": [
    {
     "data": {
      "image/png": "[encoded data removed]",
      "text/plain": [
       "<Figure size 432x288 with 1 Axes>"
      ]
     },
     "metadata": {
      "needs_background": "light"
     },
     "output_type": "display_data"
    }
   ],
   "source": [
    "plt.scatter(psi0, psi1)\n",
    "plt.show()"
   ]
  },
  {
   "cell_type": "code",
   "execution_count": 308,
   "metadata": {},
   "outputs": [],
   "source": [
    "from sklearn.linear_model import LinearRegression, Ridge, RidgeCV\n",
    "from sklearn.metrics import mean_squared_error"
   ]
  },
  {
   "cell_type": "code",
   "execution_count": null,
   "metadata": {},
   "outputs": [],
   "source": [
    "reg = Ridge(alpha=1e-7).fit(X, y)\n",
    "reg.score(X, y)"
   ]
  },
  {
   "cell_type": "code",
   "execution_count": 357,
   "metadata": {},
   "outputs": [
    {
     "data": {
      "text/plain": [
       "0.9999978532989207"
      ]
     },
     "execution_count": 357,
     "metadata": {},
     "output_type": "execute_result"
    }
   ],
   "source": [
    "# reg = LinearRegression().fit(X, y)\n",
    "reg = RidgeCV(alphas=[1e-5,1e-6,1e-7,1e-8,1e-9,1e-10,1e-11,1e-12]).fit(X, y)\n",
    "reg.score(X, y)"
   ]
  },
  {
   "cell_type": "code",
   "execution_count": 358,
   "metadata": {},
   "outputs": [
    {
     "data": {
      "text/plain": [
       "1e-09"
      ]
     },
     "execution_count": 358,
     "metadata": {},
     "output_type": "execute_result"
    }
   ],
   "source": [
    "reg.alpha_"
   ]
  },
  {
   "cell_type": "code",
   "execution_count": 359,
   "metadata": {},
   "outputs": [
    {
     "data": {
      "text/plain": [
       "4.4967495335348645e-06"
      ]
     },
     "execution_count": 359,
     "metadata": {},
     "output_type": "execute_result"
    }
   ],
   "source": [
    "mean_squared_error(reg.predict(X), y)"
   ]
  },
  {
   "cell_type": "code",
   "execution_count": 360,
   "metadata": {
    "jupyter": {
     "source_hidden": true
    }
   },
   "outputs": [
    {
     "data": {
      "image/png": "[encoded data removed]",
      "text/plain": [
       "<Figure size 432x288 with 1 Axes>"
      ]
     },
     "metadata": {
      "needs_background": "light"
     },
     "output_type": "display_data"
    }
   ],
   "source": [
    "plt.scatter(reg.predict(X), y)\n",
    "plt.show()"
   ]
  },
  {
   "cell_type": "code",
   "execution_count": 361,
   "metadata": {},
   "outputs": [
    {
     "data": {
      "text/plain": [
       "array([-876.16543447,   25.17286545,  286.89630551,  286.89630551,\n",
       "        286.89622429,   27.63704879])"
      ]
     },
     "execution_count": 361,
     "metadata": {},
     "output_type": "execute_result"
    }
   ],
   "source": [
    "reg.coef_"
   ]
  },
  {
   "cell_type": "code",
   "execution_count": 342,
   "metadata": {},
   "outputs": [],
   "source": [
    "reg.intercept_ = reg.intercept_ / 6"
   ]
  },
  {
   "cell_type": "code",
   "execution_count": 362,
   "metadata": {},
   "outputs": [],
   "source": [
    "x = np.linspace(17.3,17.6,10)"
   ]
  },
  {
   "cell_type": "code",
   "execution_count": 363,
   "metadata": {},
   "outputs": [],
   "source": [
    "yp = reg.predict(np.array([6*x, 6*x**2, np.zeros_like(x), np.zeros_like(x), np.zeros_like(x), np.zeros_like(x)]).T)"
   ]
  },
  {
   "cell_type": "code",
   "execution_count": 364,
   "metadata": {
    "jupyter": {
     "source_hidden": true
    }
   },
   "outputs": [
    {
     "data": {
      "image/png": "[encoded data removed]",
      "text/plain": [
       "<Figure size 432x288 with 1 Axes>"
      ]
     },
     "metadata": {
      "needs_background": "light"
     },
     "output_type": "display_data"
    }
   ],
   "source": [
    "plt.scatter(lenghts[:,0], data[:,5]-data[:,5].min())\n",
    "plt.plot(x,yp,'r.-')\n",
    "plt.show()"
   ]
  },
  {
   "cell_type": "code",
   "execution_count": 365,
   "metadata": {},
   "outputs": [],
   "source": [
    "x = np.linspace(-0.02,0.02,10)\n",
    "x1 = 0.005\n",
    "yp = reg.predict(np.array([6*np.ones_like(x)*17.4, 6*np.ones_like(x)*17.4**2, 6*x**2, 6*x**2, 6*x**2, np.zeros_like(x)]).T)"
   ]
  },
  {
   "cell_type": "code",
   "execution_count": 367,
   "metadata": {},
   "outputs": [
    {
     "data": {
      "image/png": "[encoded data removed]",
      "text/plain": [
       "<Figure size 432x288 with 1 Axes>"
      ]
     },
     "metadata": {
      "needs_background": "light"
     },
     "output_type": "display_data"
    }
   ],
   "source": [
    "plt.plot(x,yp,'r.-')\n",
    "plt.scatter(np.sqrt(X[:,2]/(6)), y)\n",
    "plt.show()"
   ]
  },
  {
   "cell_type": "markdown",
   "metadata": {},
   "source": [
    "# Prediction for defect structure"
   ]
  },
  {
   "cell_type": "code",
   "execution_count": 407,
   "metadata": {},
   "outputs": [],
   "source": [
    "defect = read('../../COF-DFTB/Defect_DB/COF-5_opt_clean.gen')"
   ]
  },
  {
   "cell_type": "code",
   "execution_count": 372,
   "metadata": {},
   "outputs": [],
   "source": [
    "# sys.path.insert(0, '/home/jupyter-acroy/Dev/lammps_interface/')\n",
    "sys.path.insert(0, '/home/jupyter-acroy/Dev/li_tools/')\n",
    "\n",
    "from lammps_interface.lammps_main import LammpsSimulation\n",
    "from lammps_interface.structure_data import from_CIF\n",
    "from lammps_interface.lammps_potentials import PairPotential\n",
    "from lammps_interface.uff import UFF_DATA\n",
    "\n",
    "from li_tools import Parameters"
   ]
  },
  {
   "cell_type": "code",
   "execution_count": 408,
   "metadata": {},
   "outputs": [
    {
     "name": "stdout",
     "output_type": "stream",
     "text": [
      "No bonds reported in cif file - computing bonding..\n",
      "totatomlen = 864\n",
      "compute_topology_information()\n",
      "func: cartesian_coordinates; Elps. 0.010s\n",
      "func: min_img_distances; Elps. 4.026s\n",
      "func: compute_bonding; Elps. 5.393s\n",
      "func: init_typing; Elps. 5.587s\n",
      "func: bond_typing; Elps. 5.595s\n",
      "func: angles; Elps. 5.597s\n",
      "func: dihedrals; Elps. 5.602s\n",
      "func: improper_dihedrals; Elps. 5.604s\n",
      "Files created! -> /home/jupyter-acroy/COF-DFTB/tmp-defect\n"
     ]
    }
   ],
   "source": [
    "# os.chdir('tmp-defect')\n",
    "\n",
    "cif_name = 'OF-5_opt_clean.cif'\n",
    "write(cif_name, defect)\n",
    "\n",
    "par = Parameters(cif_name, 'UFF')\n",
    "\n",
    "sim = LammpsSimulation(par)\n",
    "cell, graph = from_CIF(par.cif_file)\n",
    "sim.set_cell(cell)\n",
    "sim.set_graph(graph)\n",
    "sim.assign_force_fields()\n",
    "\n",
    "sim.write_lammps_files()"
   ]
  },
  {
   "cell_type": "code",
   "execution_count": 379,
   "metadata": {},
   "outputs": [
    {
     "name": "stdout",
     "output_type": "stream",
     "text": [
      "151\n",
      "108\n",
      "18\n"
     ]
    }
   ],
   "source": [
    "s0 = read('cof-geom.atom', format='lammps-dump-text')\n",
    "\n",
    "s0.set_atomic_numbers([Zdict[Z] for Z in s0.get_atomic_numbers()])\n",
    "remove_hatoms(s0)\n",
    "\n",
    "cy = find_cycles(s0)\n",
    "\n",
    "G_cy = cycle_graph(cy, s0.positions)\n",
    "\n",
    "# annotate cycles with cycle length\n",
    "for n in G_cy.nodes:\n",
    "    G_cy.nodes[n]['cl'] = len(G_cy.nodes[n]['cycle'])\n",
    "\n",
    "mfs = find_unique_motifs(motif, G_cy)\n",
    "print(len(mfs))"
   ]
  },
  {
   "cell_type": "code",
   "execution_count": 380,
   "metadata": {},
   "outputs": [],
   "source": [
    "r0 = 30.082756/np.sqrt(3)\n",
    "\n",
    "core_descriptors = []\n",
    "bond_descriptors = []\n",
    "\n",
    "G_cy = cycle_graph(cy, s0.positions)\n",
    "\n",
    "r_c = np.array([G_cy.nodes[m['B']]['pos'].mean(axis=0) for m in mfs]) # compute core centers\n",
    "core_linker_dir = [[G_cy.nodes[m[ls]]['pos'].mean(axis=0)-G_cy.nodes[m['B']]['pos'].mean(axis=0) for ls in ['A', 'C', 'D']] for m in mfs]\n",
    "\n",
    "cg_atoms = Atoms(['Y'] * len(r_c), positions=r_c, cell=s0.cell, pbc=True) # create coarse-grained representation based on core centers\n",
    "cg_atoms.new_array('linker_sites', np.array(core_linker_dir)) # add positions of linker sites relative to core center\n",
    "\n",
    "_find_linker_neighbor(cg_atoms, r0)\n",
    "\n",
    "bonds = _get_bonds(cg_atoms, r0)\n",
    "bond_desc = _get_bond_descriptors(cg_atoms, r0, bonds)\n",
    "bond_descriptors.append(bond_desc)\n",
    "\n",
    "core_desc = _get_core_descriptors(cg_atoms, r0)\n",
    "core_descriptors.append(core_desc)    "
   ]
  },
  {
   "cell_type": "code",
   "execution_count": 404,
   "metadata": {},
   "outputs": [
    {
     "data": {
      "text/plain": [
       "54"
      ]
     },
     "execution_count": 404,
     "metadata": {},
     "output_type": "execute_result"
    }
   ],
   "source": [
    "len(bonds)"
   ]
  },
  {
   "cell_type": "code",
   "execution_count": 381,
   "metadata": {},
   "outputs": [
    {
     "data": {
      "image/png": "[encoded data removed]",
      "text/plain": [
       "<Figure size 720x720 with 1 Axes>"
      ]
     },
     "metadata": {
      "needs_background": "light"
     },
     "output_type": "display_data"
    }
   ],
   "source": [
    "natoms = len(cg_atoms)\n",
    "cell = cg_atoms.cell\n",
    "positions = cg_atoms.positions\n",
    "core_linker_dir = cg_atoms.get_array('linker_sites')\n",
    "core_linker_neigh = cg_atoms.get_array('linker_neighbors')\n",
    "\n",
    "nl = NeighborList( [1.2*r0/2] * natoms, self_interaction=False, bothways=True)\n",
    "nl.update(cg_atoms)\n",
    "\n",
    "fig = plt.figure(figsize=(10,10)) \n",
    "ax = fig.add_subplot(111, aspect='equal')\n",
    "\n",
    "ax.scatter(positions[:,0],positions[:,1], color='coral', marker='o', s=75, zorder=10)\n",
    "for i in range(core_linker_dir.shape[0]):\n",
    "    for li in range(core_linker_dir.shape[1]):\n",
    "        ax.arrow(positions[i,0],positions[i,1], core_linker_dir[i,li,0], core_linker_dir[i,li,1], color='coral', head_width=0.9, head_length=0.5, zorder=10)\n",
    "\n",
    "for ib,b in enumerate(bonds):\n",
    "    ii, nii, jj, njj = b[0], b[1], b[2], b[3]\n",
    "\n",
    "    # get angle for site ii\n",
    "    neighbors, offsets = nl.get_neighbors(ii)\n",
    "    cells = np.dot(offsets, cell)\n",
    "    distance_vectors = positions[neighbors] + cells - positions[ii]\n",
    "\n",
    "    v2 = core_linker_dir[ii][core_linker_neigh[ii,nii]] # vector to linkage site\n",
    "    v1 = distance_vectors[nii] # vector from ii to neighbor nii        \n",
    "    \n",
    "    ax.plot([positions[ii][0], positions[ii][0]+v1[0]/2], [positions[ii][1], positions[ii][1]+v1[1]/2], 'b--')\n",
    "    ax.annotate(str(ib), [positions[ii][0]+v1[0]/2, positions[ii][1]+v1[1]/2])\n",
    "        \n",
    "plt.show()"
   ]
  },
  {
   "cell_type": "code",
   "execution_count": 382,
   "metadata": {},
   "outputs": [],
   "source": [
    "# bonds\n",
    "lenghts = np.array(bond_descriptors)[:,:,0]\n",
    "psi0 = np.array(bond_descriptors)[:,:,1]\n",
    "psi1 = np.array(bond_descriptors)[:,:,2]\n",
    "\n",
    "# cores\n",
    "dphi0 = np.array(core_descriptors)[:,:,0] - 2*np.pi/3\n",
    "dphi1 = np.array(core_descriptors)[:,:,1] - 2*np.pi/3\n",
    "dphi2 = np.array(core_descriptors)[:,:,2] - 2*np.pi/3\n",
    "\n",
    "X = np.array([lenghts.sum(axis=1), (lenghts**2).sum(axis=1), (psi0**2).sum(axis=1) , (psi1**2).sum(axis=1), (psi0*psi1).sum(axis=1), \n",
    "              (dphi0**2).sum(axis=1) + (dphi1**2).sum(axis=1) + (dphi2**2).sum(axis=1)]).T\n"
   ]
  },
  {
   "cell_type": "code",
   "execution_count": 405,
   "metadata": {},
   "outputs": [],
   "source": [
    "reg.intercept_ = reg.intercept_ * 54/6"
   ]
  },
  {
   "cell_type": "code",
   "execution_count": 409,
   "metadata": {},
   "outputs": [
    {
     "name": "stdout",
     "output_type": "stream",
     "text": [
      "528.7255987629101\n"
     ]
    },
    {
     "data": {
      "text/plain": [
       "array([577.47887183])"
      ]
     },
     "execution_count": 409,
     "metadata": {},
     "output_type": "execute_result"
    }
   ],
   "source": [
    "# final energy \n",
    "print(3132.66559876291 - 2603.94)\n",
    "reg.predict(X)"
   ]
  },
  {
   "cell_type": "code",
   "execution_count": 389,
   "metadata": {},
   "outputs": [
    {
     "data": {
      "image/png": "[encoded data removed]",
      "text/plain": [
       "<Figure size 432x288 with 1 Axes>"
      ]
     },
     "metadata": {
      "needs_background": "light"
     },
     "output_type": "display_data"
    }
   ],
   "source": [
    "plt.scatter(psi0, psi1)\n",
    "plt.show()"
   ]
  },
  {
   "cell_type": "code",
   "execution_count": 394,
   "metadata": {},
   "outputs": [
    {
     "data": {
      "image/png": "[encoded data removed]",
      "text/plain": [
       "<Figure size 432x288 with 1 Axes>"
      ]
     },
     "metadata": {
      "needs_background": "light"
     },
     "output_type": "display_data"
    }
   ],
   "source": [
    "plt.hist(lenghts[0],bins=10)\n",
    "plt.show()"
   ]
  },
  {
   "cell_type": "code",
   "execution_count": null,
   "metadata": {},
   "outputs": [],
   "source": []
  }
 ],
 "metadata": {
  "kernelspec": {
   "display_name": "Python 3",
   "language": "python",
   "name": "python3"
  },
  "language_info": {
   "codemirror_mode": {
    "name": "ipython",
    "version": 3
   },
   "file_extension": ".py",
   "mimetype": "text/x-python",
   "name": "python",
   "nbconvert_exporter": "python",
   "pygments_lexer": "ipython3",
   "version": "3.7.11"
  }
 },
 "nbformat": 4,
 "nbformat_minor": 4
}

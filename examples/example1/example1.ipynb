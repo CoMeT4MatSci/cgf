{
 "cells": [
  {
   "cell_type": "markdown",
   "metadata": {},
   "source": [
    "# Training a BAFF and MikadoRR model"
   ]
  },
  {
   "cell_type": "code",
   "execution_count": 1,
   "metadata": {},
   "outputs": [],
   "source": [
    "import json\n",
    "from pathlib import Path\n",
    "\n",
    "import numpy as np\n",
    "from ase.io import Trajectory\n",
    "from ase import units\n",
    "\n",
    "from cgf.utils.training import get_optimal_coeffs\n",
    "from numpy.polynomial.polynomial import polyfit"
   ]
  },
  {
   "cell_type": "markdown",
   "metadata": {},
   "source": [
    "## 1. Reading the training-data"
   ]
  },
  {
   "cell_type": "markdown",
   "metadata": {},
   "source": [
    "The trajectory contains 41 datapoints of the 2D polymer COF-5, of which the first one is the relaxed structure, the next 20 are isotropically strained structures from -1.0% to 1.0, and the last 20 are sheared structures from -4.0% to 4.0% shear strain.\n",
    "\n",
    "Furthermore, we will need later on `r0` which is the distance between two core vertex positions and can be extracted directly from the unit cell for a honeycomb lattice."
   ]
  },
  {
   "cell_type": "code",
   "execution_count": 2,
   "metadata": {},
   "outputs": [],
   "source": [
    "traj = Trajectory(Path('traj_training.traj'))\n",
    "\n",
    "r0 = traj[0].cell.cellpar()[0]/np.sqrt(3)  # this is the distance between two node positions\n"
   ]
  },
  {
   "cell_type": "markdown",
   "metadata": {},
   "source": [
    "Let us extract the energies and structures from the trajectory:"
   ]
  },
  {
   "cell_type": "code",
   "execution_count": 3,
   "metadata": {},
   "outputs": [],
   "source": [
    "structures = []\n",
    "energies = []\n",
    "for n, atoms in enumerate(traj):\n",
    "    del atoms.constraints\n",
    "    energies.append(atoms.get_potential_energy())\n",
    "    structures.append(atoms)\n",
    "    if 1.2*r0>=atoms.cell.cellpar()[2]:  # in case cell z-coordinate to small\n",
    "        cellnew = atoms.cell\n",
    "        cellnew[2][2] = 2*r0\n",
    "        atoms.set_cell(cellnew)\n",
    "\n",
    "energies = np.array(energies)"
   ]
  },
  {
   "cell_type": "markdown",
   "metadata": {},
   "source": [
    "## 2. Training the BAFF model from EoS fitting of the 2D Bulk and Shear moduli"
   ]
  },
  {
   "cell_type": "markdown",
   "metadata": {},
   "source": [
    "From this we can directly obtain the 2D bulk and shear modulus via equation of state fitting. This we will need for the parametrization of the BAFF model:"
   ]
  },
  {
   "cell_type": "code",
   "execution_count": 4,
   "metadata": {},
   "outputs": [
    {
     "name": "stdout",
     "output_type": "stream",
     "text": [
      "B2D [N/m]:  25.929674561479185\n"
     ]
    }
   ],
   "source": [
    "### calc 2d bulk and shear modulus for BAFF: see https://doi.org/10.1021/acs.jpcc.2c06268\n",
    "areas = [atoms.get_volume()/atoms.cell.cellpar()[2] for atoms in structures]\n",
    "## bulk\n",
    "popt, data = polyfit(x=areas[:21], y=energies[:21], deg=3, full=True)\n",
    "res_B = data[0][0]\n",
    "# 2D Bulk modulus as Aopt*d^2E/dA^2 at Aopt in eV/Angstrom^2\n",
    "B = 2*np.sqrt(popt[2]**2 - 3*popt[1]*popt[3]) * areas[0]\n",
    "print(\"B2D [N/m]: \", B * units.m**2 / units.J)"
   ]
  },
  {
   "cell_type": "code",
   "execution_count": 5,
   "metadata": {},
   "outputs": [
    {
     "name": "stdout",
     "output_type": "stream",
     "text": [
      "mu2D [N/m]:  3.6665643988022443\n"
     ]
    }
   ],
   "source": [
    "## shear\n",
    "strains = [((structures[0].cell[0][0] - atoms.cell[0][0])/structures[0].cell[0][0]) for atoms in structures]\n",
    "popt, data = polyfit(strains[21:], energies[21:], 3, full=True)\n",
    "res_mu = data[0][0]\n",
    "\n",
    "# shear modulus (dE^2/ds^2)/4Aopt at smin in eV/Angstrom^2\n",
    "mu = 2*np.sqrt(popt[2]**2 - 3*popt[1]*popt[3])/(4*areas[0])\n",
    "print(\"mu2D [N/m]: \", mu * units.m**2 / units.J)"
   ]
  },
  {
   "cell_type": "markdown",
   "metadata": {},
   "source": [
    "Calculating the bonding and angular force-constants of BAFF from the 2D bulk and shear moduli:"
   ]
  },
  {
   "cell_type": "code",
   "execution_count": 6,
   "metadata": {},
   "outputs": [
    {
     "name": "stdout",
     "output_type": "stream",
     "text": [
      "----- \n",
      " Training model BAFF: \n",
      " {'B': 1.618403004066553, 'res_B': 6.753100718691878e-08, 'mu': 0.2288489515576287, 'res_mu': 1.0201762839358919e-05, 'Kbond': 2.80315623016537, 'Kangle': 15.019847417402843, 'cosT0': -0.5}\n"
     ]
    }
   ],
   "source": [
    "training_model = dict()\n",
    "training_model['B'] = B\n",
    "training_model['res_B'] = res_B\n",
    "training_model['mu'] = mu\n",
    "training_model['res_mu'] = res_mu\n",
    "\n",
    "training_model['Kbond'] =  2*np.sqrt(3) * B / 2\n",
    "training_model['Kangle'] = (1/(mu*np.sqrt(3)) - 1/(2*np.sqrt(3) * B))**(-1) /9 * r0**2\n",
    "training_model['cosT0'] = -0.5\n",
    "print('----- \\n Training model BAFF: \\n', training_model)\n",
    "\n",
    "with open(Path('training_model_BAFF.json'), 'w') as fp:\n",
    "    json.dump(training_model, fp)"
   ]
  },
  {
   "cell_type": "markdown",
   "metadata": {},
   "source": [
    "## 3. Training the MikadoRR model by automatically extracting necessary features"
   ]
  },
  {
   "cell_type": "markdown",
   "metadata": {},
   "source": [
    "We are automatically extracting the necessary features for the model and then fitting via a ridge-regression procedure the model.\n",
    "\n",
    "For the feature extraction, we need to define `id_groups`. This is a list of lists, in which each list is a series of ids corresponding to atoms in the structure from which the center of geometry of the core is obtained. For instance `id_groups = [[30, 40, 50, 25, 45, 35], [10, 60, 20, 65, 15, 55]]` means that we have two cores. The position of core 1 is defined by the center of geometry of atoms [30, 40, 50, 25, 45, 35] and position of core 2 by the center of geometry of atoms [10, 60, 20, 65, 15, 55].\n",
    "\n",
    "Then, the function `get_optimal_coeffs` is a helper function which automatically extracts the distances between the cores and all the angles describing the elastic beams.\n",
    "\n",
    "Within this function, different linkage lengths are being probed to see which one works the best to fit a model. The linkage length divides the 2D polymer into a core region and a linker region, where the linkage length is the distance between the core center and the onset of the linkage."
   ]
  },
  {
   "cell_type": "code",
   "execution_count": 7,
   "metadata": {},
   "outputs": [
    {
     "name": "stdout",
     "output_type": "stream",
     "text": [
      "Linkage length:  0.1\n",
      "Training successful with cross_val_score_mean: 0.9984012881900722\n",
      "Linkage length:  0.4034883569074885\n",
      "Training successful with cross_val_score_mean: 0.9987474289509974\n",
      "Linkage length:  0.7069767138149771\n",
      "Training successful with cross_val_score_mean: 0.9985149171843695\n",
      "Linkage length:  1.0104650707224656\n",
      "Training successful with cross_val_score_mean: 0.9987410711880648\n",
      "Linkage length:  1.3139534276299543\n",
      "Training successful with cross_val_score_mean: -1.8160868935738543\n",
      "Linkage length:  1.617441784537443\n",
      "Training successful with cross_val_score_mean: 0.9987667185516832\n",
      "Linkage length:  1.9209301414449313\n",
      "Training successful with cross_val_score_mean: 0.9980311611350304\n",
      "Linkage length:  2.22441849835242\n",
      "Training successful with cross_val_score_mean: 0.9985036796970289\n",
      "Linkage length:  2.5279068552599084\n"
     ]
    },
    {
     "name": "stderr",
     "output_type": "stream",
     "text": [
      "/home/dbodesheim/anaconda3/envs/cgf_piptest/lib/python3.12/site-packages/sklearn/linear_model/_ridge.py:216: LinAlgWarning: Ill-conditioned matrix (rcond=9.55364e-17): result may not be accurate.\n",
      "  return linalg.solve(A, Xy, assume_a=\"pos\", overwrite_a=True).T\n",
      "/home/dbodesheim/anaconda3/envs/cgf_piptest/lib/python3.12/site-packages/sklearn/linear_model/_ridge.py:216: LinAlgWarning: Ill-conditioned matrix (rcond=9.46448e-17): result may not be accurate.\n",
      "  return linalg.solve(A, Xy, assume_a=\"pos\", overwrite_a=True).T\n",
      "/home/dbodesheim/anaconda3/envs/cgf_piptest/lib/python3.12/site-packages/sklearn/linear_model/_ridge.py:216: LinAlgWarning: Ill-conditioned matrix (rcond=1.03305e-16): result may not be accurate.\n",
      "  return linalg.solve(A, Xy, assume_a=\"pos\", overwrite_a=True).T\n",
      "/home/dbodesheim/anaconda3/envs/cgf_piptest/lib/python3.12/site-packages/sklearn/linear_model/_ridge.py:216: LinAlgWarning: Ill-conditioned matrix (rcond=1.07361e-16): result may not be accurate.\n",
      "  return linalg.solve(A, Xy, assume_a=\"pos\", overwrite_a=True).T\n",
      "/home/dbodesheim/anaconda3/envs/cgf_piptest/lib/python3.12/site-packages/sklearn/linear_model/_ridge.py:216: LinAlgWarning: Ill-conditioned matrix (rcond=9.35919e-17): result may not be accurate.\n",
      "  return linalg.solve(A, Xy, assume_a=\"pos\", overwrite_a=True).T\n",
      "/home/dbodesheim/anaconda3/envs/cgf_piptest/lib/python3.12/site-packages/sklearn/linear_model/_ridge.py:216: LinAlgWarning: Ill-conditioned matrix (rcond=9.33554e-17): result may not be accurate.\n",
      "  return linalg.solve(A, Xy, assume_a=\"pos\", overwrite_a=True).T\n",
      "/home/dbodesheim/anaconda3/envs/cgf_piptest/lib/python3.12/site-packages/sklearn/linear_model/_ridge.py:216: LinAlgWarning: Ill-conditioned matrix (rcond=9.32228e-17): result may not be accurate.\n",
      "  return linalg.solve(A, Xy, assume_a=\"pos\", overwrite_a=True).T\n",
      "/home/dbodesheim/anaconda3/envs/cgf_piptest/lib/python3.12/site-packages/sklearn/linear_model/_ridge.py:216: LinAlgWarning: Ill-conditioned matrix (rcond=9.3296e-17): result may not be accurate.\n",
      "  return linalg.solve(A, Xy, assume_a=\"pos\", overwrite_a=True).T\n",
      "/home/dbodesheim/anaconda3/envs/cgf_piptest/lib/python3.12/site-packages/sklearn/linear_model/_ridge.py:216: LinAlgWarning: Ill-conditioned matrix (rcond=9.35094e-17): result may not be accurate.\n",
      "  return linalg.solve(A, Xy, assume_a=\"pos\", overwrite_a=True).T\n",
      "/home/dbodesheim/anaconda3/envs/cgf_piptest/lib/python3.12/site-packages/sklearn/linear_model/_ridge.py:216: LinAlgWarning: Ill-conditioned matrix (rcond=9.12318e-17): result may not be accurate.\n",
      "  return linalg.solve(A, Xy, assume_a=\"pos\", overwrite_a=True).T\n"
     ]
    },
    {
     "name": "stdout",
     "output_type": "stream",
     "text": [
      "Training successful with cross_val_score_mean: -0.2578986271347411\n",
      "Linkage length:  2.831395212167397\n",
      "Training successful with cross_val_score_mean: 0.9984799412903717\n",
      "Linkage length:  3.1348835690748857\n",
      "Training successful with cross_val_score_mean: 0.9950176585652054\n",
      "Linkage length:  3.438371925982374\n",
      "Training successful with cross_val_score_mean: 0.9987647346530562\n",
      "Linkage length:  3.7418602828898626\n",
      "Training successful with cross_val_score_mean: 0.9986970861941481\n",
      "Linkage length:  4.045348639797351\n",
      "Training successful with cross_val_score_mean: 0.9988131877260178\n",
      "Linkage length:  4.348836996704839\n",
      "Training successful with cross_val_score_mean: 0.998778906654451\n",
      "Linkage length:  4.652325353612328\n",
      "Training successful with cross_val_score_mean: 0.9988023284501384\n",
      "Linkage length:  4.955813710519816\n",
      "Training successful with cross_val_score_mean: 0.9885319454229211\n",
      "Linkage length:  5.2593020674273046\n",
      "Training successful with cross_val_score_mean: 0.9988004952445699\n",
      "Linkage length:  5.562790424334794\n",
      "Training successful with cross_val_score_mean: 0.9988232362963998\n",
      "Linkage length:  5.866278781242282\n"
     ]
    },
    {
     "name": "stderr",
     "output_type": "stream",
     "text": [
      "/home/dbodesheim/anaconda3/envs/cgf_piptest/lib/python3.12/site-packages/sklearn/linear_model/_ridge.py:216: LinAlgWarning: Ill-conditioned matrix (rcond=8.06436e-17): result may not be accurate.\n",
      "  return linalg.solve(A, Xy, assume_a=\"pos\", overwrite_a=True).T\n",
      "/home/dbodesheim/anaconda3/envs/cgf_piptest/lib/python3.12/site-packages/sklearn/linear_model/_ridge.py:216: LinAlgWarning: Ill-conditioned matrix (rcond=6.63707e-17): result may not be accurate.\n",
      "  return linalg.solve(A, Xy, assume_a=\"pos\", overwrite_a=True).T\n",
      "/home/dbodesheim/anaconda3/envs/cgf_piptest/lib/python3.12/site-packages/sklearn/linear_model/_ridge.py:216: LinAlgWarning: Ill-conditioned matrix (rcond=6.56743e-17): result may not be accurate.\n",
      "  return linalg.solve(A, Xy, assume_a=\"pos\", overwrite_a=True).T\n",
      "/home/dbodesheim/anaconda3/envs/cgf_piptest/lib/python3.12/site-packages/sklearn/linear_model/_ridge.py:216: LinAlgWarning: Ill-conditioned matrix (rcond=7.14707e-17): result may not be accurate.\n",
      "  return linalg.solve(A, Xy, assume_a=\"pos\", overwrite_a=True).T\n",
      "/home/dbodesheim/anaconda3/envs/cgf_piptest/lib/python3.12/site-packages/sklearn/linear_model/_ridge.py:216: LinAlgWarning: Ill-conditioned matrix (rcond=8.63124e-17): result may not be accurate.\n",
      "  return linalg.solve(A, Xy, assume_a=\"pos\", overwrite_a=True).T\n",
      "/home/dbodesheim/anaconda3/envs/cgf_piptest/lib/python3.12/site-packages/sklearn/linear_model/_ridge.py:216: LinAlgWarning: Ill-conditioned matrix (rcond=7.4347e-17): result may not be accurate.\n",
      "  return linalg.solve(A, Xy, assume_a=\"pos\", overwrite_a=True).T\n",
      "/home/dbodesheim/anaconda3/envs/cgf_piptest/lib/python3.12/site-packages/sklearn/linear_model/_ridge.py:216: LinAlgWarning: Ill-conditioned matrix (rcond=6.47914e-17): result may not be accurate.\n",
      "  return linalg.solve(A, Xy, assume_a=\"pos\", overwrite_a=True).T\n",
      "/home/dbodesheim/anaconda3/envs/cgf_piptest/lib/python3.12/site-packages/sklearn/linear_model/_ridge.py:216: LinAlgWarning: Ill-conditioned matrix (rcond=6.47207e-17): result may not be accurate.\n",
      "  return linalg.solve(A, Xy, assume_a=\"pos\", overwrite_a=True).T\n",
      "/home/dbodesheim/anaconda3/envs/cgf_piptest/lib/python3.12/site-packages/sklearn/linear_model/_ridge.py:216: LinAlgWarning: Ill-conditioned matrix (rcond=6.47471e-17): result may not be accurate.\n",
      "  return linalg.solve(A, Xy, assume_a=\"pos\", overwrite_a=True).T\n",
      "/home/dbodesheim/anaconda3/envs/cgf_piptest/lib/python3.12/site-packages/sklearn/linear_model/_ridge.py:216: LinAlgWarning: Ill-conditioned matrix (rcond=6.47248e-17): result may not be accurate.\n",
      "  return linalg.solve(A, Xy, assume_a=\"pos\", overwrite_a=True).T\n",
      "/home/dbodesheim/anaconda3/envs/cgf_piptest/lib/python3.12/site-packages/sklearn/linear_model/_ridge.py:216: LinAlgWarning: Ill-conditioned matrix (rcond=6.47392e-17): result may not be accurate.\n",
      "  return linalg.solve(A, Xy, assume_a=\"pos\", overwrite_a=True).T\n",
      "/home/dbodesheim/anaconda3/envs/cgf_piptest/lib/python3.12/site-packages/sklearn/linear_model/_ridge.py:216: LinAlgWarning: Ill-conditioned matrix (rcond=6.50511e-17): result may not be accurate.\n",
      "  return linalg.solve(A, Xy, assume_a=\"pos\", overwrite_a=True).T\n",
      "/home/dbodesheim/anaconda3/envs/cgf_piptest/lib/python3.12/site-packages/sklearn/linear_model/_ridge.py:216: LinAlgWarning: Ill-conditioned matrix (rcond=6.47212e-17): result may not be accurate.\n",
      "  return linalg.solve(A, Xy, assume_a=\"pos\", overwrite_a=True).T\n",
      "/home/dbodesheim/anaconda3/envs/cgf_piptest/lib/python3.12/site-packages/sklearn/linear_model/_ridge.py:216: LinAlgWarning: Ill-conditioned matrix (rcond=6.47212e-17): result may not be accurate.\n",
      "  return linalg.solve(A, Xy, assume_a=\"pos\", overwrite_a=True).T\n"
     ]
    },
    {
     "name": "stdout",
     "output_type": "stream",
     "text": [
      "Training successful with cross_val_score_mean: -7.288203300665767\n",
      "Linkage length:  6.169767138149771\n"
     ]
    },
    {
     "name": "stderr",
     "output_type": "stream",
     "text": [
      "/home/dbodesheim/anaconda3/envs/cgf_piptest/lib/python3.12/site-packages/sklearn/linear_model/_ridge.py:216: LinAlgWarning: Ill-conditioned matrix (rcond=8.06071e-17): result may not be accurate.\n",
      "  return linalg.solve(A, Xy, assume_a=\"pos\", overwrite_a=True).T\n",
      "/home/dbodesheim/anaconda3/envs/cgf_piptest/lib/python3.12/site-packages/sklearn/linear_model/_ridge.py:216: LinAlgWarning: Ill-conditioned matrix (rcond=6.65062e-17): result may not be accurate.\n",
      "  return linalg.solve(A, Xy, assume_a=\"pos\", overwrite_a=True).T\n",
      "/home/dbodesheim/anaconda3/envs/cgf_piptest/lib/python3.12/site-packages/sklearn/linear_model/_ridge.py:216: LinAlgWarning: Ill-conditioned matrix (rcond=6.58252e-17): result may not be accurate.\n",
      "  return linalg.solve(A, Xy, assume_a=\"pos\", overwrite_a=True).T\n",
      "/home/dbodesheim/anaconda3/envs/cgf_piptest/lib/python3.12/site-packages/sklearn/linear_model/_ridge.py:216: LinAlgWarning: Ill-conditioned matrix (rcond=7.16567e-17): result may not be accurate.\n",
      "  return linalg.solve(A, Xy, assume_a=\"pos\", overwrite_a=True).T\n",
      "/home/dbodesheim/anaconda3/envs/cgf_piptest/lib/python3.12/site-packages/sklearn/linear_model/_ridge.py:216: LinAlgWarning: Ill-conditioned matrix (rcond=8.65886e-17): result may not be accurate.\n",
      "  return linalg.solve(A, Xy, assume_a=\"pos\", overwrite_a=True).T\n",
      "/home/dbodesheim/anaconda3/envs/cgf_piptest/lib/python3.12/site-packages/sklearn/linear_model/_ridge.py:216: LinAlgWarning: Ill-conditioned matrix (rcond=7.44793e-17): result may not be accurate.\n",
      "  return linalg.solve(A, Xy, assume_a=\"pos\", overwrite_a=True).T\n",
      "/home/dbodesheim/anaconda3/envs/cgf_piptest/lib/python3.12/site-packages/sklearn/linear_model/_ridge.py:216: LinAlgWarning: Ill-conditioned matrix (rcond=6.48891e-17): result may not be accurate.\n",
      "  return linalg.solve(A, Xy, assume_a=\"pos\", overwrite_a=True).T\n",
      "/home/dbodesheim/anaconda3/envs/cgf_piptest/lib/python3.12/site-packages/sklearn/linear_model/_ridge.py:216: LinAlgWarning: Ill-conditioned matrix (rcond=6.48227e-17): result may not be accurate.\n",
      "  return linalg.solve(A, Xy, assume_a=\"pos\", overwrite_a=True).T\n",
      "/home/dbodesheim/anaconda3/envs/cgf_piptest/lib/python3.12/site-packages/sklearn/linear_model/_ridge.py:216: LinAlgWarning: Ill-conditioned matrix (rcond=6.48404e-17): result may not be accurate.\n",
      "  return linalg.solve(A, Xy, assume_a=\"pos\", overwrite_a=True).T\n",
      "/home/dbodesheim/anaconda3/envs/cgf_piptest/lib/python3.12/site-packages/sklearn/linear_model/_ridge.py:216: LinAlgWarning: Ill-conditioned matrix (rcond=6.48375e-17): result may not be accurate.\n",
      "  return linalg.solve(A, Xy, assume_a=\"pos\", overwrite_a=True).T\n",
      "/home/dbodesheim/anaconda3/envs/cgf_piptest/lib/python3.12/site-packages/sklearn/linear_model/_ridge.py:216: LinAlgWarning: Ill-conditioned matrix (rcond=6.48436e-17): result may not be accurate.\n",
      "  return linalg.solve(A, Xy, assume_a=\"pos\", overwrite_a=True).T\n",
      "/home/dbodesheim/anaconda3/envs/cgf_piptest/lib/python3.12/site-packages/sklearn/linear_model/_ridge.py:216: LinAlgWarning: Ill-conditioned matrix (rcond=6.5055e-17): result may not be accurate.\n",
      "  return linalg.solve(A, Xy, assume_a=\"pos\", overwrite_a=True).T\n",
      "/home/dbodesheim/anaconda3/envs/cgf_piptest/lib/python3.12/site-packages/sklearn/linear_model/_ridge.py:216: LinAlgWarning: Ill-conditioned matrix (rcond=6.48293e-17): result may not be accurate.\n",
      "  return linalg.solve(A, Xy, assume_a=\"pos\", overwrite_a=True).T\n",
      "/home/dbodesheim/anaconda3/envs/cgf_piptest/lib/python3.12/site-packages/sklearn/linear_model/_ridge.py:216: LinAlgWarning: Ill-conditioned matrix (rcond=6.48293e-17): result may not be accurate.\n",
      "  return linalg.solve(A, Xy, assume_a=\"pos\", overwrite_a=True).T\n"
     ]
    },
    {
     "name": "stdout",
     "output_type": "stream",
     "text": [
      "Training successful with cross_val_score_mean: -20.957431969883945\n",
      "Linkage length:  6.473255495057259\n"
     ]
    },
    {
     "name": "stderr",
     "output_type": "stream",
     "text": [
      "/home/dbodesheim/anaconda3/envs/cgf_piptest/lib/python3.12/site-packages/sklearn/linear_model/_ridge.py:216: LinAlgWarning: Ill-conditioned matrix (rcond=6.49229e-17): result may not be accurate.\n",
      "  return linalg.solve(A, Xy, assume_a=\"pos\", overwrite_a=True).T\n"
     ]
    },
    {
     "name": "stdout",
     "output_type": "stream",
     "text": [
      "Training successful with cross_val_score_mean: -56.524352335980474\n",
      "Linkage length:  6.776743851964747\n"
     ]
    },
    {
     "name": "stderr",
     "output_type": "stream",
     "text": [
      "/home/dbodesheim/anaconda3/envs/cgf_piptest/lib/python3.12/site-packages/sklearn/linear_model/_ridge.py:216: LinAlgWarning: Ill-conditioned matrix (rcond=1.01221e-16): result may not be accurate.\n",
      "  return linalg.solve(A, Xy, assume_a=\"pos\", overwrite_a=True).T\n",
      "/home/dbodesheim/anaconda3/envs/cgf_piptest/lib/python3.12/site-packages/sklearn/linear_model/_ridge.py:216: LinAlgWarning: Ill-conditioned matrix (rcond=8.06693e-17): result may not be accurate.\n",
      "  return linalg.solve(A, Xy, assume_a=\"pos\", overwrite_a=True).T\n",
      "/home/dbodesheim/anaconda3/envs/cgf_piptest/lib/python3.12/site-packages/sklearn/linear_model/_ridge.py:216: LinAlgWarning: Ill-conditioned matrix (rcond=6.64762e-17): result may not be accurate.\n",
      "  return linalg.solve(A, Xy, assume_a=\"pos\", overwrite_a=True).T\n",
      "/home/dbodesheim/anaconda3/envs/cgf_piptest/lib/python3.12/site-packages/sklearn/linear_model/_ridge.py:216: LinAlgWarning: Ill-conditioned matrix (rcond=6.58311e-17): result may not be accurate.\n",
      "  return linalg.solve(A, Xy, assume_a=\"pos\", overwrite_a=True).T\n",
      "/home/dbodesheim/anaconda3/envs/cgf_piptest/lib/python3.12/site-packages/sklearn/linear_model/_ridge.py:216: LinAlgWarning: Ill-conditioned matrix (rcond=7.17005e-17): result may not be accurate.\n",
      "  return linalg.solve(A, Xy, assume_a=\"pos\", overwrite_a=True).T\n",
      "/home/dbodesheim/anaconda3/envs/cgf_piptest/lib/python3.12/site-packages/sklearn/linear_model/_ridge.py:216: LinAlgWarning: Ill-conditioned matrix (rcond=8.67178e-17): result may not be accurate.\n",
      "  return linalg.solve(A, Xy, assume_a=\"pos\", overwrite_a=True).T\n",
      "/home/dbodesheim/anaconda3/envs/cgf_piptest/lib/python3.12/site-packages/sklearn/linear_model/_ridge.py:216: LinAlgWarning: Ill-conditioned matrix (rcond=7.45335e-17): result may not be accurate.\n",
      "  return linalg.solve(A, Xy, assume_a=\"pos\", overwrite_a=True).T\n",
      "/home/dbodesheim/anaconda3/envs/cgf_piptest/lib/python3.12/site-packages/sklearn/linear_model/_ridge.py:216: LinAlgWarning: Ill-conditioned matrix (rcond=6.49236e-17): result may not be accurate.\n",
      "  return linalg.solve(A, Xy, assume_a=\"pos\", overwrite_a=True).T\n",
      "/home/dbodesheim/anaconda3/envs/cgf_piptest/lib/python3.12/site-packages/sklearn/linear_model/_ridge.py:216: LinAlgWarning: Ill-conditioned matrix (rcond=6.48623e-17): result may not be accurate.\n",
      "  return linalg.solve(A, Xy, assume_a=\"pos\", overwrite_a=True).T\n",
      "/home/dbodesheim/anaconda3/envs/cgf_piptest/lib/python3.12/site-packages/sklearn/linear_model/_ridge.py:216: LinAlgWarning: Ill-conditioned matrix (rcond=6.48768e-17): result may not be accurate.\n",
      "  return linalg.solve(A, Xy, assume_a=\"pos\", overwrite_a=True).T\n",
      "/home/dbodesheim/anaconda3/envs/cgf_piptest/lib/python3.12/site-packages/sklearn/linear_model/_ridge.py:216: LinAlgWarning: Ill-conditioned matrix (rcond=6.48662e-17): result may not be accurate.\n",
      "  return linalg.solve(A, Xy, assume_a=\"pos\", overwrite_a=True).T\n",
      "/home/dbodesheim/anaconda3/envs/cgf_piptest/lib/python3.12/site-packages/sklearn/linear_model/_ridge.py:216: LinAlgWarning: Ill-conditioned matrix (rcond=6.48838e-17): result may not be accurate.\n",
      "  return linalg.solve(A, Xy, assume_a=\"pos\", overwrite_a=True).T\n",
      "/home/dbodesheim/anaconda3/envs/cgf_piptest/lib/python3.12/site-packages/sklearn/linear_model/_ridge.py:216: LinAlgWarning: Ill-conditioned matrix (rcond=6.51032e-17): result may not be accurate.\n",
      "  return linalg.solve(A, Xy, assume_a=\"pos\", overwrite_a=True).T\n",
      "/home/dbodesheim/anaconda3/envs/cgf_piptest/lib/python3.12/site-packages/sklearn/linear_model/_ridge.py:216: LinAlgWarning: Ill-conditioned matrix (rcond=6.48567e-17): result may not be accurate.\n",
      "  return linalg.solve(A, Xy, assume_a=\"pos\", overwrite_a=True).T\n",
      "/home/dbodesheim/anaconda3/envs/cgf_piptest/lib/python3.12/site-packages/sklearn/linear_model/_ridge.py:216: LinAlgWarning: Ill-conditioned matrix (rcond=6.48567e-17): result may not be accurate.\n",
      "  return linalg.solve(A, Xy, assume_a=\"pos\", overwrite_a=True).T\n"
     ]
    },
    {
     "name": "stdout",
     "output_type": "stream",
     "text": [
      "Training successful with cross_val_score_mean: -35.67763101040808\n",
      "Linkage length:  7.0802322088722365\n"
     ]
    },
    {
     "name": "stderr",
     "output_type": "stream",
     "text": [
      "/home/dbodesheim/anaconda3/envs/cgf_piptest/lib/python3.12/site-packages/sklearn/linear_model/_ridge.py:216: LinAlgWarning: Ill-conditioned matrix (rcond=8.0676e-17): result may not be accurate.\n",
      "  return linalg.solve(A, Xy, assume_a=\"pos\", overwrite_a=True).T\n",
      "/home/dbodesheim/anaconda3/envs/cgf_piptest/lib/python3.12/site-packages/sklearn/linear_model/_ridge.py:216: LinAlgWarning: Ill-conditioned matrix (rcond=6.64097e-17): result may not be accurate.\n",
      "  return linalg.solve(A, Xy, assume_a=\"pos\", overwrite_a=True).T\n",
      "/home/dbodesheim/anaconda3/envs/cgf_piptest/lib/python3.12/site-packages/sklearn/linear_model/_ridge.py:216: LinAlgWarning: Ill-conditioned matrix (rcond=6.57398e-17): result may not be accurate.\n",
      "  return linalg.solve(A, Xy, assume_a=\"pos\", overwrite_a=True).T\n",
      "/home/dbodesheim/anaconda3/envs/cgf_piptest/lib/python3.12/site-packages/sklearn/linear_model/_ridge.py:216: LinAlgWarning: Ill-conditioned matrix (rcond=7.15682e-17): result may not be accurate.\n",
      "  return linalg.solve(A, Xy, assume_a=\"pos\", overwrite_a=True).T\n",
      "/home/dbodesheim/anaconda3/envs/cgf_piptest/lib/python3.12/site-packages/sklearn/linear_model/_ridge.py:216: LinAlgWarning: Ill-conditioned matrix (rcond=8.64864e-17): result may not be accurate.\n",
      "  return linalg.solve(A, Xy, assume_a=\"pos\", overwrite_a=True).T\n",
      "/home/dbodesheim/anaconda3/envs/cgf_piptest/lib/python3.12/site-packages/sklearn/linear_model/_ridge.py:216: LinAlgWarning: Ill-conditioned matrix (rcond=7.45288e-17): result may not be accurate.\n",
      "  return linalg.solve(A, Xy, assume_a=\"pos\", overwrite_a=True).T\n",
      "/home/dbodesheim/anaconda3/envs/cgf_piptest/lib/python3.12/site-packages/sklearn/linear_model/_ridge.py:216: LinAlgWarning: Ill-conditioned matrix (rcond=6.48385e-17): result may not be accurate.\n",
      "  return linalg.solve(A, Xy, assume_a=\"pos\", overwrite_a=True).T\n",
      "/home/dbodesheim/anaconda3/envs/cgf_piptest/lib/python3.12/site-packages/sklearn/linear_model/_ridge.py:216: LinAlgWarning: Ill-conditioned matrix (rcond=6.47868e-17): result may not be accurate.\n",
      "  return linalg.solve(A, Xy, assume_a=\"pos\", overwrite_a=True).T\n",
      "/home/dbodesheim/anaconda3/envs/cgf_piptest/lib/python3.12/site-packages/sklearn/linear_model/_ridge.py:216: LinAlgWarning: Ill-conditioned matrix (rcond=6.47823e-17): result may not be accurate.\n",
      "  return linalg.solve(A, Xy, assume_a=\"pos\", overwrite_a=True).T\n",
      "/home/dbodesheim/anaconda3/envs/cgf_piptest/lib/python3.12/site-packages/sklearn/linear_model/_ridge.py:216: LinAlgWarning: Ill-conditioned matrix (rcond=6.47761e-17): result may not be accurate.\n",
      "  return linalg.solve(A, Xy, assume_a=\"pos\", overwrite_a=True).T\n",
      "/home/dbodesheim/anaconda3/envs/cgf_piptest/lib/python3.12/site-packages/sklearn/linear_model/_ridge.py:216: LinAlgWarning: Ill-conditioned matrix (rcond=6.4792e-17): result may not be accurate.\n",
      "  return linalg.solve(A, Xy, assume_a=\"pos\", overwrite_a=True).T\n",
      "/home/dbodesheim/anaconda3/envs/cgf_piptest/lib/python3.12/site-packages/sklearn/linear_model/_ridge.py:216: LinAlgWarning: Ill-conditioned matrix (rcond=6.50088e-17): result may not be accurate.\n",
      "  return linalg.solve(A, Xy, assume_a=\"pos\", overwrite_a=True).T\n",
      "/home/dbodesheim/anaconda3/envs/cgf_piptest/lib/python3.12/site-packages/sklearn/linear_model/_ridge.py:216: LinAlgWarning: Ill-conditioned matrix (rcond=6.47775e-17): result may not be accurate.\n",
      "  return linalg.solve(A, Xy, assume_a=\"pos\", overwrite_a=True).T\n",
      "/home/dbodesheim/anaconda3/envs/cgf_piptest/lib/python3.12/site-packages/sklearn/linear_model/_ridge.py:216: LinAlgWarning: Ill-conditioned matrix (rcond=6.47775e-17): result may not be accurate.\n",
      "  return linalg.solve(A, Xy, assume_a=\"pos\", overwrite_a=True).T\n"
     ]
    },
    {
     "name": "stdout",
     "output_type": "stream",
     "text": [
      "Training successful with cross_val_score_mean: -4.1313219181985\n",
      "Linkage length:  7.383720565779725\n"
     ]
    },
    {
     "name": "stderr",
     "output_type": "stream",
     "text": [
      "/home/dbodesheim/anaconda3/envs/cgf_piptest/lib/python3.12/site-packages/sklearn/linear_model/_ridge.py:216: LinAlgWarning: Ill-conditioned matrix (rcond=6.48738e-17): result may not be accurate.\n",
      "  return linalg.solve(A, Xy, assume_a=\"pos\", overwrite_a=True).T\n"
     ]
    },
    {
     "name": "stdout",
     "output_type": "stream",
     "text": [
      "Training successful with cross_val_score_mean: -12.570223928401093\n",
      "Linkage length:  7.687208922687213\n",
      "Training failed:  index 2 is out of bounds for axis 1 with size 2\n",
      "Linkage length:  7.990697279594702\n",
      "Training failed:  index 1 is out of bounds for axis 1 with size 1\n",
      "Linkage length:  8.29418563650219\n"
     ]
    },
    {
     "name": "stderr",
     "output_type": "stream",
     "text": [
      "/home/dbodesheim/anaconda3/envs/cgf_piptest/lib/python3.12/site-packages/sklearn/linear_model/_ridge.py:216: LinAlgWarning: Ill-conditioned matrix (rcond=8.68507e-17): result may not be accurate.\n",
      "  return linalg.solve(A, Xy, assume_a=\"pos\", overwrite_a=True).T\n"
     ]
    },
    {
     "name": "stdout",
     "output_type": "stream",
     "text": [
      "Training successful with cross_val_score_mean: -8056.014339163196\n",
      "Linkage length:  8.597673993409678\n"
     ]
    },
    {
     "name": "stderr",
     "output_type": "stream",
     "text": [
      "/home/dbodesheim/anaconda3/envs/cgf_piptest/lib/python3.12/site-packages/sklearn/linear_model/_ridge.py:216: LinAlgWarning: Ill-conditioned matrix (rcond=1.07587e-16): result may not be accurate.\n",
      "  return linalg.solve(A, Xy, assume_a=\"pos\", overwrite_a=True).T\n",
      "/home/dbodesheim/anaconda3/envs/cgf_piptest/lib/python3.12/site-packages/sklearn/linear_model/_ridge.py:216: LinAlgWarning: Ill-conditioned matrix (rcond=8.86642e-17): result may not be accurate.\n",
      "  return linalg.solve(A, Xy, assume_a=\"pos\", overwrite_a=True).T\n",
      "/home/dbodesheim/anaconda3/envs/cgf_piptest/lib/python3.12/site-packages/sklearn/linear_model/_ridge.py:216: LinAlgWarning: Ill-conditioned matrix (rcond=8.78368e-17): result may not be accurate.\n",
      "  return linalg.solve(A, Xy, assume_a=\"pos\", overwrite_a=True).T\n",
      "/home/dbodesheim/anaconda3/envs/cgf_piptest/lib/python3.12/site-packages/sklearn/linear_model/_ridge.py:216: LinAlgWarning: Ill-conditioned matrix (rcond=9.57031e-17): result may not be accurate.\n",
      "  return linalg.solve(A, Xy, assume_a=\"pos\", overwrite_a=True).T\n",
      "/home/dbodesheim/anaconda3/envs/cgf_piptest/lib/python3.12/site-packages/sklearn/linear_model/_ridge.py:216: LinAlgWarning: Ill-conditioned matrix (rcond=9.94503e-17): result may not be accurate.\n",
      "  return linalg.solve(A, Xy, assume_a=\"pos\", overwrite_a=True).T\n",
      "/home/dbodesheim/anaconda3/envs/cgf_piptest/lib/python3.12/site-packages/sklearn/linear_model/_ridge.py:216: LinAlgWarning: Ill-conditioned matrix (rcond=8.65946e-17): result may not be accurate.\n",
      "  return linalg.solve(A, Xy, assume_a=\"pos\", overwrite_a=True).T\n",
      "/home/dbodesheim/anaconda3/envs/cgf_piptest/lib/python3.12/site-packages/sklearn/linear_model/_ridge.py:216: LinAlgWarning: Ill-conditioned matrix (rcond=8.65269e-17): result may not be accurate.\n",
      "  return linalg.solve(A, Xy, assume_a=\"pos\", overwrite_a=True).T\n",
      "/home/dbodesheim/anaconda3/envs/cgf_piptest/lib/python3.12/site-packages/sklearn/linear_model/_ridge.py:216: LinAlgWarning: Ill-conditioned matrix (rcond=8.65461e-17): result may not be accurate.\n",
      "  return linalg.solve(A, Xy, assume_a=\"pos\", overwrite_a=True).T\n",
      "/home/dbodesheim/anaconda3/envs/cgf_piptest/lib/python3.12/site-packages/sklearn/linear_model/_ridge.py:216: LinAlgWarning: Ill-conditioned matrix (rcond=8.6532e-17): result may not be accurate.\n",
      "  return linalg.solve(A, Xy, assume_a=\"pos\", overwrite_a=True).T\n",
      "/home/dbodesheim/anaconda3/envs/cgf_piptest/lib/python3.12/site-packages/sklearn/linear_model/_ridge.py:216: LinAlgWarning: Ill-conditioned matrix (rcond=8.65545e-17): result may not be accurate.\n",
      "  return linalg.solve(A, Xy, assume_a=\"pos\", overwrite_a=True).T\n",
      "/home/dbodesheim/anaconda3/envs/cgf_piptest/lib/python3.12/site-packages/sklearn/linear_model/_ridge.py:216: LinAlgWarning: Ill-conditioned matrix (rcond=8.68507e-17): result may not be accurate.\n",
      "  return linalg.solve(A, Xy, assume_a=\"pos\", overwrite_a=True).T\n"
     ]
    },
    {
     "name": "stdout",
     "output_type": "stream",
     "text": [
      "Training successful with cross_val_score_mean: 0.9984856884345056\n",
      "Linkage length:  8.901162350317167\n",
      "Training successful with cross_val_score_mean: 0.9984856884341634\n",
      "----- \n",
      " Optimal training model MikadoRR: \n",
      " {'rr_coeff': [-49.85999701479752, 1.4003018666893938, 16.756783067995613, 16.756783068003514, 16.756782849533202, 30.551767656051386], 'rr_incpt': 443.8363156932706, 'rr_alpha': 1e-07, 'R2': 0.9999893002464733, 'MSE': 2.8917666867956276e-07, 'cross_val_score_mean': 0.9988232362963998, 'n_samples': 41, 'linkage_length': 5.562790424334794, 'training_ID': 18}\n"
     ]
    },
    {
     "name": "stderr",
     "output_type": "stream",
     "text": [
      "/home/dbodesheim/anaconda3/envs/cgf_piptest/lib/python3.12/site-packages/sklearn/linear_model/_ridge.py:216: LinAlgWarning: Ill-conditioned matrix (rcond=1.07587e-16): result may not be accurate.\n",
      "  return linalg.solve(A, Xy, assume_a=\"pos\", overwrite_a=True).T\n",
      "/home/dbodesheim/anaconda3/envs/cgf_piptest/lib/python3.12/site-packages/sklearn/linear_model/_ridge.py:216: LinAlgWarning: Ill-conditioned matrix (rcond=8.86642e-17): result may not be accurate.\n",
      "  return linalg.solve(A, Xy, assume_a=\"pos\", overwrite_a=True).T\n",
      "/home/dbodesheim/anaconda3/envs/cgf_piptest/lib/python3.12/site-packages/sklearn/linear_model/_ridge.py:216: LinAlgWarning: Ill-conditioned matrix (rcond=8.78368e-17): result may not be accurate.\n",
      "  return linalg.solve(A, Xy, assume_a=\"pos\", overwrite_a=True).T\n",
      "/home/dbodesheim/anaconda3/envs/cgf_piptest/lib/python3.12/site-packages/sklearn/linear_model/_ridge.py:216: LinAlgWarning: Ill-conditioned matrix (rcond=9.57031e-17): result may not be accurate.\n",
      "  return linalg.solve(A, Xy, assume_a=\"pos\", overwrite_a=True).T\n",
      "/home/dbodesheim/anaconda3/envs/cgf_piptest/lib/python3.12/site-packages/sklearn/linear_model/_ridge.py:216: LinAlgWarning: Ill-conditioned matrix (rcond=9.94503e-17): result may not be accurate.\n",
      "  return linalg.solve(A, Xy, assume_a=\"pos\", overwrite_a=True).T\n",
      "/home/dbodesheim/anaconda3/envs/cgf_piptest/lib/python3.12/site-packages/sklearn/linear_model/_ridge.py:216: LinAlgWarning: Ill-conditioned matrix (rcond=8.65946e-17): result may not be accurate.\n",
      "  return linalg.solve(A, Xy, assume_a=\"pos\", overwrite_a=True).T\n",
      "/home/dbodesheim/anaconda3/envs/cgf_piptest/lib/python3.12/site-packages/sklearn/linear_model/_ridge.py:216: LinAlgWarning: Ill-conditioned matrix (rcond=8.65269e-17): result may not be accurate.\n",
      "  return linalg.solve(A, Xy, assume_a=\"pos\", overwrite_a=True).T\n",
      "/home/dbodesheim/anaconda3/envs/cgf_piptest/lib/python3.12/site-packages/sklearn/linear_model/_ridge.py:216: LinAlgWarning: Ill-conditioned matrix (rcond=8.65461e-17): result may not be accurate.\n",
      "  return linalg.solve(A, Xy, assume_a=\"pos\", overwrite_a=True).T\n",
      "/home/dbodesheim/anaconda3/envs/cgf_piptest/lib/python3.12/site-packages/sklearn/linear_model/_ridge.py:216: LinAlgWarning: Ill-conditioned matrix (rcond=8.6532e-17): result may not be accurate.\n",
      "  return linalg.solve(A, Xy, assume_a=\"pos\", overwrite_a=True).T\n",
      "/home/dbodesheim/anaconda3/envs/cgf_piptest/lib/python3.12/site-packages/sklearn/linear_model/_ridge.py:216: LinAlgWarning: Ill-conditioned matrix (rcond=8.65545e-17): result may not be accurate.\n",
      "  return linalg.solve(A, Xy, assume_a=\"pos\", overwrite_a=True).T\n",
      "/home/dbodesheim/anaconda3/envs/cgf_piptest/lib/python3.12/site-packages/sklearn/linear_model/_ridge.py:216: LinAlgWarning: Ill-conditioned matrix (rcond=8.68507e-17): result may not be accurate.\n",
      "  return linalg.solve(A, Xy, assume_a=\"pos\", overwrite_a=True).T\n"
     ]
    }
   ],
   "source": [
    "### calc training for MikadoRR\n",
    "\n",
    "with open(Path('id_groups_cores.json'), 'r') as inp:\n",
    "    id_groups = json.load(inp)['id_groups']\n",
    "\n",
    "# get coeffs with all available structures\n",
    "results = get_optimal_coeffs(r0, structures, energies, id_groups=id_groups, width=4)\n",
    "training_model = results['opt_training_model']\n",
    "if training_model==None:\n",
    "    print('----- \\n No optimal training model MikadoRR found...\\n')\n",
    "else:\n",
    "    print('----- \\n Optimal training model MikadoRR: \\n', training_model)\n",
    "\n",
    "    with open(Path('training_model_MikadoRR.json'), 'w') as fp:\n",
    "        json.dump(training_model, fp)\n",
    "with open(Path('all_training_results_MikadoRR.json'), 'w') as fp:\n",
    "    json.dump(results, fp)"
   ]
  }
 ],
 "metadata": {
  "kernelspec": {
   "display_name": "cgf_piptest",
   "language": "python",
   "name": "python3"
  },
  "language_info": {
   "codemirror_mode": {
    "name": "ipython",
    "version": 3
   },
   "file_extension": ".py",
   "mimetype": "text/x-python",
   "name": "python",
   "nbconvert_exporter": "python",
   "pygments_lexer": "ipython3",
   "version": "3.12.4"
  }
 },
 "nbformat": 4,
 "nbformat_minor": 2
}
